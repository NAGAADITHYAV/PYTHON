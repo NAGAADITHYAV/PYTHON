{
 "cells": [
  {
   "cell_type": "code",
   "execution_count": 27,
   "id": "259d0e41",
   "metadata": {},
   "outputs": [],
   "source": [
    "class Solution:\n",
    "    \"\"\"\n",
    "    @param: strs: a list of strings\n",
    "    @return: encodes a list of strings to a single string.\n",
    "    \"\"\"\n",
    "    def encode(self, strs):\n",
    "        # write your code here\n",
    "        encoded = ''\n",
    "        l = len(strs)\n",
    "        ls = [len(s) for s in strs]\n",
    "        encoded = encoded + str(l) + \"#\"\n",
    "        for x in ls:\n",
    "            encoded = encoded + str(x)+ '#'\n",
    "        for x in strs:\n",
    "            encoded = encoded + x\n",
    "        return encoded\n",
    "\n",
    "    \"\"\"\n",
    "    @param: str: A string\n",
    "    @return: decodes a single string to a list of strings\n",
    "    \"\"\"\n",
    "    def decode(self, s):\n",
    "        # write your code here\n",
    "        i = 0\n",
    "        while(s[i] != '#'):\n",
    "            i = i + 1\n",
    "        l = int(s[:i])\n",
    "        i = i+1\n",
    "        ls = []\n",
    "        lasti = i\n",
    "        for x in range(l):\n",
    "            while(s[i] != '#'):\n",
    "                i = i+1\n",
    "            ls.append(int(s[lasti:i]))\n",
    "            i = i+1\n",
    "            lasti = i\n",
    "        print(ls)\n",
    "        decoded = []\n",
    "        for x in ls:\n",
    "            i = i+x\n",
    "            decoded.append(s[lasti:i])\n",
    "            lasti = i\n",
    "        return decoded"
   ]
  },
  {
   "cell_type": "code",
   "execution_count": 28,
   "id": "adc2ad23",
   "metadata": {},
   "outputs": [
    {
     "name": "stdout",
     "output_type": "stream",
     "text": [
      "7#1#2#2#11#14#21#29#abccdneycu2n(())ndci9442w438()BKDniiB&B&B#&WB*((W))bchaieyX###(E*x9*xqgaBX)*aBXO\n",
      "[1, 2, 2, 11, 14, 21, 29]\n",
      "['a', 'bc', 'cd', 'neycu2n(())', 'ndci9442w438()', 'BKDniiB&B&B#&WB*((W))', 'bchaieyX###(E*x9*xqgaBX)*aBXO']\n"
     ]
    }
   ],
   "source": [
    "s = Solution()\n",
    "strs = ['a', 'bc', 'cd', 'neycu2n(())', 'ndci9442w438()','BKDniiB&B&B#&WB*((W))','bchaieyX###(E*x9*xqgaBX)*aBXO']\n",
    "encod = s.encode(strs)\n",
    "print(encod)\n",
    "decod = s.decode(encod)\n",
    "print(decod)"
   ]
  },
  {
   "cell_type": "code",
   "execution_count": 17,
   "id": "2113ff13",
   "metadata": {},
   "outputs": [
    {
     "data": {
      "text/plain": [
       "'5dw'"
      ]
     },
     "execution_count": 17,
     "metadata": {},
     "output_type": "execute_result"
    }
   ],
   "source": [
    "s = ''.join('5dw')\n",
    "s"
   ]
  },
  {
   "cell_type": "code",
   "execution_count": 18,
   "id": "75fc17e9",
   "metadata": {},
   "outputs": [
    {
     "data": {
      "text/plain": [
       "'a'"
      ]
     },
     "execution_count": 18,
     "metadata": {},
     "output_type": "execute_result"
    }
   ],
   "source": [
    "s.join('a')"
   ]
  },
  {
   "cell_type": "code",
   "execution_count": null,
   "id": "a53287a2",
   "metadata": {},
   "outputs": [],
   "source": []
  }
 ],
 "metadata": {
  "kernelspec": {
   "display_name": "Python 3 (ipykernel)",
   "language": "python",
   "name": "python3"
  },
  "language_info": {
   "codemirror_mode": {
    "name": "ipython",
    "version": 3
   },
   "file_extension": ".py",
   "mimetype": "text/x-python",
   "name": "python",
   "nbconvert_exporter": "python",
   "pygments_lexer": "ipython3",
   "version": "3.11.5"
  }
 },
 "nbformat": 4,
 "nbformat_minor": 5
}
