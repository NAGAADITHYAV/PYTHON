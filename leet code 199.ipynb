{
 "cells": [
  {
   "cell_type": "code",
   "execution_count": 28,
   "id": "7e96b926",
   "metadata": {},
   "outputs": [],
   "source": [
    "class TreeNode:\n",
    "    def __init__(self, val=0, left=None, right=None):\n",
    "        self.val = val\n",
    "        self.left = left\n",
    "        self.right = right\n",
    "\n",
    "class Queue:\n",
    "    def __init__(self):\n",
    "        self.q = []\n",
    "    \n",
    "    def enqueue(self, val):\n",
    "        self.q.append(val)\n",
    "    \n",
    "    def dequeue(self):\n",
    "        if len(self.q) == 0:\n",
    "            return None\n",
    "        v = self.q[0]\n",
    "        self.q = self.q[1:]\n",
    "        return v\n",
    "    \n",
    "    def empty(self):\n",
    "        return len(self.q) == 0\n",
    "\n",
    "class Solution:\n",
    "    def rightSideView(self, root: Optional[TreeNode]) -> List[int]:\n",
    "        arr = []\n",
    "        q = Queue()\n",
    "        if not root:\n",
    "            return []\n",
    "        q.enqueue(root)\n",
    "        \n",
    "        while not q.empty():\n",
    "            v = q.dequeue()\n",
    "            if not v:\n",
    "                q.enqueue(v.left)\n",
    "                q.enqueue(v.right)\n",
    "            arr.append(v.val)\n",
    "        \n",
    "        r = []\n",
    "        i =0"
   ]
  },
  {
   "cell_type": "code",
   "execution_count": 30,
   "id": "1b398b5c",
   "metadata": {},
   "outputs": [
    {
     "name": "stdout",
     "output_type": "stream",
     "text": [
      "True\n",
      "False\n",
      "5\n"
     ]
    }
   ],
   "source": []
  },
  {
   "cell_type": "code",
   "execution_count": null,
   "id": "24d66bf3",
   "metadata": {},
   "outputs": [],
   "source": []
  },
  {
   "cell_type": "code",
   "execution_count": null,
   "id": "52b15364",
   "metadata": {},
   "outputs": [],
   "source": []
  },
  {
   "cell_type": "code",
   "execution_count": null,
   "id": "464c8a33",
   "metadata": {},
   "outputs": [],
   "source": []
  },
  {
   "cell_type": "code",
   "execution_count": null,
   "id": "8cc9eb94",
   "metadata": {},
   "outputs": [],
   "source": []
  },
  {
   "cell_type": "code",
   "execution_count": null,
   "id": "8286d6e2",
   "metadata": {},
   "outputs": [],
   "source": []
  },
  {
   "cell_type": "code",
   "execution_count": null,
   "id": "a958c302",
   "metadata": {},
   "outputs": [],
   "source": []
  }
 ],
 "metadata": {
  "kernelspec": {
   "display_name": "Python 3 (ipykernel)",
   "language": "python",
   "name": "python3"
  },
  "language_info": {
   "codemirror_mode": {
    "name": "ipython",
    "version": 3
   },
   "file_extension": ".py",
   "mimetype": "text/x-python",
   "name": "python",
   "nbconvert_exporter": "python",
   "pygments_lexer": "ipython3",
   "version": "3.11.5"
  }
 },
 "nbformat": 4,
 "nbformat_minor": 5
}
