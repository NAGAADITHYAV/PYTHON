{
 "cells": [
  {
   "cell_type": "code",
   "execution_count": 1,
   "id": "ada3d927",
   "metadata": {},
   "outputs": [
    {
     "name": "stdout",
     "output_type": "stream",
     "text": [
      "Requirement already satisfied: requests in /Users/nagaadithya/anaconda3/lib/python3.11/site-packages (2.31.0)\n",
      "Collecting schedule\n",
      "  Obtaining dependency information for schedule from https://files.pythonhosted.org/packages/f0/1a/e5a65c08d708ee4c002f3f938ba69b2282af478755700c40f037eacc92ef/schedule-1.2.1-py2.py3-none-any.whl.metadata\n",
      "  Downloading schedule-1.2.1-py2.py3-none-any.whl.metadata (3.3 kB)\n",
      "Requirement already satisfied: charset-normalizer<4,>=2 in /Users/nagaadithya/anaconda3/lib/python3.11/site-packages (from requests) (2.0.4)\n",
      "Requirement already satisfied: idna<4,>=2.5 in /Users/nagaadithya/anaconda3/lib/python3.11/site-packages (from requests) (3.4)\n",
      "Requirement already satisfied: urllib3<3,>=1.21.1 in /Users/nagaadithya/anaconda3/lib/python3.11/site-packages (from requests) (1.26.16)\n",
      "Requirement already satisfied: certifi>=2017.4.17 in /Users/nagaadithya/anaconda3/lib/python3.11/site-packages (from requests) (2024.2.2)\n",
      "Downloading schedule-1.2.1-py2.py3-none-any.whl (11 kB)\n",
      "Installing collected packages: schedule\n",
      "Successfully installed schedule-1.2.1\n",
      "Note: you may need to restart the kernel to use updated packages.\n"
     ]
    }
   ],
   "source": [
    "pip install requests schedule\n"
   ]
  },
  {
   "cell_type": "code",
   "execution_count": 2,
   "id": "4aacfddb",
   "metadata": {},
   "outputs": [
    {
     "ename": "KeyboardInterrupt",
     "evalue": "",
     "output_type": "error",
     "traceback": [
      "\u001b[0;31m---------------------------------------------------------------------------\u001b[0m",
      "\u001b[0;31mKeyboardInterrupt\u001b[0m                         Traceback (most recent call last)",
      "Cell \u001b[0;32mIn[2], line 17\u001b[0m\n\u001b[1;32m     15\u001b[0m \u001b[38;5;28;01mwhile\u001b[39;00m \u001b[38;5;28;01mTrue\u001b[39;00m:\n\u001b[1;32m     16\u001b[0m     schedule\u001b[38;5;241m.\u001b[39mrun_pending()\n\u001b[0;32m---> 17\u001b[0m     time\u001b[38;5;241m.\u001b[39msleep(\u001b[38;5;241m1\u001b[39m)\n",
      "\u001b[0;31mKeyboardInterrupt\u001b[0m: "
     ]
    }
   ],
   "source": [
    "import requests\n",
    "import schedule\n",
    "import time\n",
    "\n",
    "def make_api_call():\n",
    "    url = \"https://your-api-endpoint.com\"\n",
    "    # Make your API call here\n",
    "    response = requests.get(url)\n",
    "    print(\"API call made at 6am MST\")\n",
    "\n",
    "# Schedule the API call for 6am MST daily\n",
    "schedule.every().day.at(\"06:00\").do(make_api_call)\n",
    "\n",
    "# Run the scheduler continuously\n",
    "while True:\n",
    "    schedule.run_pending()\n",
    "    time.sleep(1)\n"
   ]
  },
  {
   "cell_type": "code",
   "execution_count": null,
   "id": "3c49a619",
   "metadata": {},
   "outputs": [],
   "source": [
    "import hashlib\n",
    "import sys\n",
    "import itertools\n",
    "import string\n",
    "\n",
    "def brute_force_sha256(target_hash, max_length=6):\n",
    "    chars = string.ascii_lowercase\n",
    "    for length in range(1, max_length + 1):\n",
    "        for candidate in itertools.product(chars, repeat=length):\n",
    "            attempt = ''.join(candidate)\n",
    "            if hashlib.sha256(attempt.encode()).hexdigest() == target_hash:\n",
    "                print(f\"Match found: {attempt}\")\n",
    "                return attempt\n",
    "    print(\"No match found within given constraints.\")\n",
    "    return None\n",
    "\n",
    "brute_force_sha256()"
   ]
  }
 ],
 "metadata": {
  "kernelspec": {
   "display_name": "Python 3 (ipykernel)",
   "language": "python",
   "name": "python3"
  },
  "language_info": {
   "codemirror_mode": {
    "name": "ipython",
    "version": 3
   },
   "file_extension": ".py",
   "mimetype": "text/x-python",
   "name": "python",
   "nbconvert_exporter": "python",
   "pygments_lexer": "ipython3",
   "version": "3.11.5"
  }
 },
 "nbformat": 4,
 "nbformat_minor": 5
}
