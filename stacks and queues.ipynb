{
 "cells": [
  {
   "cell_type": "code",
   "execution_count": 8,
   "id": "ca52fb11",
   "metadata": {},
   "outputs": [
    {
     "name": "stdout",
     "output_type": "stream",
     "text": [
      "False\n",
      "3\n"
     ]
    },
    {
     "data": {
      "text/plain": [
       "'Empty'"
      ]
     },
     "execution_count": 8,
     "metadata": {},
     "output_type": "execute_result"
    }
   ],
   "source": [
    "class Stack:\n",
    "    #stack implementation using pyton list\n",
    "    def __init__(self):\n",
    "        self.arr = []\n",
    "        self.top_of_stack = -1\n",
    "        \n",
    "    def push(self,x):\n",
    "        self.arr.append(x)\n",
    "        self.top_of_stack += 1\n",
    "    \n",
    "    def pop(self):\n",
    "        if self.top_of_stack == -1:\n",
    "            return 'Empty'\n",
    "        self.top_of_stack -=1\n",
    "        return self.arr.pop()\n",
    "    \n",
    "    def is_empty(self):\n",
    "        if self.top_of_stack == -1:\n",
    "            return True\n",
    "        return False\n",
    "\n",
    "    def size(self):\n",
    "        return self.top_of_stack+1\n",
    "\n",
    "#usage\n",
    "s = Stack()\n",
    "s.push(3)\n",
    "print(s.is_empty())\n",
    "print(s.pop())\n",
    "s.pop()"
   ]
  },
  {
   "cell_type": "code",
   "execution_count": 10,
   "id": "8a8e7648",
   "metadata": {},
   "outputs": [
    {
     "name": "stdout",
     "output_type": "stream",
     "text": [
      "1\n"
     ]
    },
    {
     "data": {
      "text/plain": [
       "5"
      ]
     },
     "execution_count": 10,
     "metadata": {},
     "output_type": "execute_result"
    }
   ],
   "source": [
    "class Queue:\n",
    "    #queue implementation using python lists\n",
    "    def __init__(self):\n",
    "        self.arr = []\n",
    "    \n",
    "    def enqueue(self, data):\n",
    "        self.arr.append(data)\n",
    "    \n",
    "    def dequeue(self):\n",
    "        if len(self.arr) == 0:\n",
    "            return 'Empty'\n",
    "        v = self.arr[0]\n",
    "        self.arr = self.arr[1:]\n",
    "        return v\n",
    "    \n",
    "    def size(self):\n",
    "        return len(self.arr)\n",
    "\n",
    "#usage\n",
    "q = Queue()\n",
    "q.enqueue(5)\n",
    "print(q.size())\n",
    "q.dequeue()"
   ]
  },
  {
   "cell_type": "code",
   "execution_count": 11,
   "id": "04c310dd",
   "metadata": {},
   "outputs": [
    {
     "name": "stdout",
     "output_type": "stream",
     "text": [
      "4\n",
      "3\n"
     ]
    }
   ],
   "source": [
    "class Deque:\n",
    "    def __init__(self):\n",
    "        self.arr =[]\n",
    "        \n",
    "    def enqueue_start(self, x):\n",
    "        self.arr = [x] + self.arr\n",
    "    \n",
    "    def enqueue(self, x):\n",
    "        self.arr += [x]\n",
    "    \n",
    "    def dequeue(self):\n",
    "        if len(self.arr) == 0:\n",
    "            return 'Empty'\n",
    "        v = self.arr[0]\n",
    "        self.arr = self.arr[1:]\n",
    "        return v\n",
    "    \n",
    "    def dequeue_last(self):\n",
    "        if len(self.arr) ==0:\n",
    "            return 'Empty'\n",
    "        v = self.arr[-1]\n",
    "        self.arr = self.arr[:-1]\n",
    "        return v\n",
    "    \n",
    "    def size(self):\n",
    "        return len(self.arr)\n",
    "\n",
    "# usage    \n",
    "d = Deque()\n",
    "d.enqueue(5)\n",
    "d.enqueue_start(4)\n",
    "d.enqueue(5)\n",
    "d.enqueue(3)\n",
    "print(d.dequeue())\n",
    "print(d.dequeue_last())"
   ]
  },
  {
   "cell_type": "code",
   "execution_count": 23,
   "id": "d7528af5",
   "metadata": {},
   "outputs": [
    {
     "name": "stdout",
     "output_type": "stream",
     "text": [
      "3\n",
      "5\n",
      "4\n",
      "3\n",
      "Empty\n"
     ]
    }
   ],
   "source": [
    "class QueueStack:\n",
    "    #queue implementation using two stacks\n",
    "    def __init__(self):\n",
    "        self.s1 = Stack()\n",
    "        self.s2 = Stack()\n",
    "    \n",
    "    def enqueue(self, data):\n",
    "        while(not self.s1.is_empty()):\n",
    "            k = self.s1.pop()\n",
    "            self.s2.push(k)\n",
    "        self.s1.push(data)\n",
    "        while(not self.s2.is_empty()):\n",
    "            k = self.s2.pop()\n",
    "            self.s1.push(k)\n",
    "    \n",
    "    def dequeue(self):\n",
    "        return self.s1.pop()\n",
    "    \n",
    "    def size(self):\n",
    "        return self.s1.size()\n",
    "    \n",
    "#     def print_queue(self):\n",
    "#         print(self.s1.arr)\n",
    "\n",
    "#usage\n",
    "q = QueueStack()\n",
    "q.enqueue(5)\n",
    "# q.print_queue()\n",
    "q.enqueue(4)\n",
    "# q.print_queue()\n",
    "q.enqueue(3)\n",
    "# q.print_queue()\n",
    "print(q.size())\n",
    "print(q.dequeue())\n",
    "print(q.dequeue())\n",
    "print(q.dequeue())\n",
    "print(q.dequeue())"
   ]
  },
  {
   "cell_type": "code",
   "execution_count": 28,
   "id": "e1770053",
   "metadata": {},
   "outputs": [
    {
     "name": "stdout",
     "output_type": "stream",
     "text": [
      "False\n",
      "3\n"
     ]
    },
    {
     "data": {
      "text/plain": [
       "'Empty'"
      ]
     },
     "execution_count": 28,
     "metadata": {},
     "output_type": "execute_result"
    }
   ],
   "source": [
    "class StackQueue:\n",
    "    #stack implementation using queues\n",
    "    def __init__(self):\n",
    "        self.q1 = Queue()\n",
    "        self.q2 = Queue()\n",
    "        \n",
    "    def push(self,x):\n",
    "        self.q2.enqueue(x)\n",
    "        while(self.q1.size() !=0):\n",
    "            k = self.q1.dequeue()\n",
    "            self.q2.enqueue(k)\n",
    "        self.q1, self.q2 = self.q2, self.q1\n",
    "    \n",
    "    def pop(self):\n",
    "        return self.q1.dequeue()\n",
    "    \n",
    "    def is_empty(self):\n",
    "        return self.q1.size == 0\n",
    "\n",
    "    def size(self):\n",
    "        return self.q1.size()\n",
    "    \n",
    "    def print_stack(self):\n",
    "        print(self.q1.arr)\n",
    "\n",
    "#usage\n",
    "s = StackQueue()\n",
    "s.push(3)\n",
    "print(s.is_empty())\n",
    "print(s.pop())\n",
    "s.pop()"
   ]
  },
  {
   "cell_type": "code",
   "execution_count": null,
   "id": "c3461b52",
   "metadata": {},
   "outputs": [],
   "source": []
  },
  {
   "cell_type": "code",
   "execution_count": null,
   "id": "ce4f4229",
   "metadata": {},
   "outputs": [],
   "source": []
  },
  {
   "cell_type": "code",
   "execution_count": null,
   "id": "bc9a90fe",
   "metadata": {},
   "outputs": [],
   "source": []
  },
  {
   "cell_type": "code",
   "execution_count": null,
   "id": "7181e7c6",
   "metadata": {},
   "outputs": [],
   "source": []
  },
  {
   "cell_type": "code",
   "execution_count": null,
   "id": "c0399155",
   "metadata": {
    "scrolled": true
   },
   "outputs": [],
   "source": []
  },
  {
   "cell_type": "code",
   "execution_count": null,
   "id": "2671a546",
   "metadata": {},
   "outputs": [],
   "source": []
  },
  {
   "cell_type": "code",
   "execution_count": null,
   "id": "f782a150",
   "metadata": {},
   "outputs": [],
   "source": []
  },
  {
   "cell_type": "code",
   "execution_count": null,
   "id": "d4d1aae5",
   "metadata": {},
   "outputs": [],
   "source": []
  }
 ],
 "metadata": {
  "kernelspec": {
   "display_name": "Python 3 (ipykernel)",
   "language": "python",
   "name": "python3"
  },
  "language_info": {
   "codemirror_mode": {
    "name": "ipython",
    "version": 3
   },
   "file_extension": ".py",
   "mimetype": "text/x-python",
   "name": "python",
   "nbconvert_exporter": "python",
   "pygments_lexer": "ipython3",
   "version": "3.11.3"
  }
 },
 "nbformat": 4,
 "nbformat_minor": 5
}
