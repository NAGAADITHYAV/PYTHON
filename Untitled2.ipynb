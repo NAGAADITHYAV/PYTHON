{
 "cells": [
  {
   "cell_type": "code",
   "execution_count": 21,
   "id": "52bde8f5",
   "metadata": {},
   "outputs": [],
   "source": [
    "class Solution:\n",
    "    def integerReplacement(self, n: int) -> int:\n",
    "        c = 0\n",
    "        while(n>1):\n",
    "            if n%2 == 0:\n",
    "                n //= 2\n",
    "            else:\n",
    "                k = (n//2)%2\n",
    "                if k == 1 and n//2 >1:\n",
    "                    n += 1\n",
    "                else:\n",
    "                    n -= 1\n",
    "            c += 1             \n",
    "        return c"
   ]
  },
  {
   "cell_type": "code",
   "execution_count": 22,
   "id": "a5326fc3",
   "metadata": {},
   "outputs": [
    {
     "name": "stdout",
     "output_type": "stream",
     "text": [
      "3\n",
      "4\n",
      "2\n",
      "2\n"
     ]
    }
   ],
   "source": [
    "s = [8,7,4,3]\n",
    "for x in s:\n",
    "    print(Solution().integerReplacement(x))"
   ]
  },
  {
   "cell_type": "code",
   "execution_count": null,
   "id": "b5345076",
   "metadata": {},
   "outputs": [],
   "source": []
  },
  {
   "cell_type": "code",
   "execution_count": null,
   "id": "93e23b04",
   "metadata": {},
   "outputs": [],
   "source": []
  }
 ],
 "metadata": {
  "kernelspec": {
   "display_name": "Python 3 (ipykernel)",
   "language": "python",
   "name": "python3"
  },
  "language_info": {
   "codemirror_mode": {
    "name": "ipython",
    "version": 3
   },
   "file_extension": ".py",
   "mimetype": "text/x-python",
   "name": "python",
   "nbconvert_exporter": "python",
   "pygments_lexer": "ipython3",
   "version": "3.11.5"
  }
 },
 "nbformat": 4,
 "nbformat_minor": 5
}
