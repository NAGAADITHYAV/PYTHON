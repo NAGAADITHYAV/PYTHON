{
 "cells": [
  {
   "cell_type": "code",
   "execution_count": 20,
   "id": "e47d9b1b-0f4c-4b35-9803-e5a4e50b64b3",
   "metadata": {},
   "outputs": [],
   "source": [
    "def numofSubarrays(arr, k, threshold):\n",
    "    checksum = k*threshold\n",
    "    i,j = 0,k\n",
    "    c =0 \n",
    "    n = len(arr)\n",
    "    currsum = sum(arr[i:j])\n",
    "    while(j<n+1):\n",
    "        print(arr[i:j])\n",
    "        print(currsum)\n",
    "        if currsum >= checksum:\n",
    "            c+= 1\n",
    "        print(j)\n",
    "        if j<n:\n",
    "            currsum = currsum +arr[j]-arr[i]\n",
    "        j = j+1\n",
    "        i = i+1\n",
    "    return c"
   ]
  },
  {
   "cell_type": "code",
   "execution_count": 21,
   "id": "f992fff4-c9a4-4c19-ac30-a28c51d0e805",
   "metadata": {},
   "outputs": [
    {
     "name": "stdout",
     "output_type": "stream",
     "text": [
      "[2, 2, 2]\n",
      "6\n",
      "3\n",
      "[2, 2, 2]\n",
      "6\n",
      "4\n",
      "[2, 2, 5]\n",
      "9\n",
      "5\n",
      "[2, 5, 5]\n",
      "12\n",
      "6\n",
      "[5, 5, 5]\n",
      "15\n",
      "7\n"
     ]
    },
    {
     "data": {
      "text/plain": [
       "2"
      ]
     },
     "execution_count": 21,
     "metadata": {},
     "output_type": "execute_result"
    }
   ],
   "source": [
    "numofSubarrays([2,2,2,2,5,5,5,8], 3, 4)"
   ]
  },
  {
   "cell_type": "code",
   "execution_count": null,
   "id": "11f262f7-3c26-46a1-85f9-ff1d9424bf14",
   "metadata": {},
   "outputs": [],
   "source": []
  }
 ],
 "metadata": {
  "kernelspec": {
   "display_name": "Python [conda env:base] *",
   "language": "python",
   "name": "conda-base-py"
  },
  "language_info": {
   "codemirror_mode": {
    "name": "ipython",
    "version": 3
   },
   "file_extension": ".py",
   "mimetype": "text/x-python",
   "name": "python",
   "nbconvert_exporter": "python",
   "pygments_lexer": "ipython3",
   "version": "3.13.5"
  }
 },
 "nbformat": 4,
 "nbformat_minor": 5
}
