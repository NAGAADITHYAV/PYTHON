{
 "cells": [
  {
   "cell_type": "code",
   "execution_count": 10,
   "id": "26dfc036",
   "metadata": {},
   "outputs": [
    {
     "name": "stdout",
     "output_type": "stream",
     "text": [
      "FIj7 IJA CDE\n"
     ]
    }
   ],
   "source": [
    "#!/bin/python3\n",
    "\n",
    "import math\n",
    "import os\n",
    "import random\n",
    "import re\n",
    "import sys\n",
    "\n",
    "#\n",
    "# Complete the 'scrambler' function below.\n",
    "#\n",
    "# The function is expected to return a STRING.\n",
    "# The function accepts following parameters:\n",
    "#  1. INTEGER length\n",
    "#  2. STRING_ARRAY messages\n",
    "#  3. INTEGER_ARRAY hshifts\n",
    "#  4. INTEGER_ARRAY vshifts\n",
    "#\n",
    "\n",
    "def scrambler(length, messages, hshifts, vshifts):\n",
    "    def hshift(mes, num):\n",
    "        mes = list(mes)\n",
    "        for i in range(len(mes)):\n",
    "            k,j = (d[mes[i]][0]), d[mes[i]][1]- num\n",
    "            mes[i] = panel[k][j]\n",
    "        return ''.join(mes)\n",
    "    \n",
    "    def vshift(mes, num):\n",
    "        mes = list(mes)\n",
    "        for i in range(len(mes)):\n",
    "            k,j = (d[mes[i]][0]-num), d[mes[i]][1]\n",
    "            mes[i] = panel[k][j]\n",
    "        return ''.join(mes)\n",
    "\n",
    "    panel = []\n",
    "    panel.append(list('abcdefghij'))\n",
    "    panel.append(list('ABCDEFGHIJ'))\n",
    "    panel.append(list('0123456789'))\n",
    "    d = {}\n",
    "    \n",
    "    for i in range(len(panel)):\n",
    "        for j in range(len(panel[0])):\n",
    "            d[panel[i][j]] = [i,j]\n",
    "    \n",
    "    for i in range(len(messages)):\n",
    "        messages[i] = hshift(messages[i], hshifts[i])\n",
    "        messages[i] = vshift(messages[i], vshifts[i])\n",
    "    \n",
    "    return ' '.join(messages)\n",
    "    \n",
    "    \n",
    "    \n",
    "    \n",
    "    \n",
    "\n",
    "if __name__ == '__main__':\n",
    "#     fptr = open(os.environ['OUTPUT_PATH'], 'w')\n",
    "\n",
    "    length = 3\n",
    "\n",
    "    messages = ['ha1J','123', 'ABC']\n",
    "\n",
    "    hshifts = [2,3,8]\n",
    "\n",
    "    vshifts = [2,1,0]\n",
    "\n",
    "    scrambled_message = scrambler(length, messages, hshifts, vshifts)\n",
    "    print(scrambled_message)\n",
    "\n",
    "#     fptr.write(scrambled_message + '\\n')\n",
    "\n",
    "#     fptr.close()\n"
   ]
  },
  {
   "cell_type": "code",
   "execution_count": 12,
   "id": "9528e2e9",
   "metadata": {},
   "outputs": [
    {
     "data": {
      "text/plain": [
       "True"
      ]
     },
     "execution_count": 12,
     "metadata": {},
     "output_type": "execute_result"
    }
   ],
   "source": [
    "'2023-12-03'<'2025-12-13'"
   ]
  },
  {
   "cell_type": "code",
   "execution_count": 1,
   "id": "2f7cb9f1",
   "metadata": {},
   "outputs": [
    {
     "name": "stdout",
     "output_type": "stream",
     "text": [
      "5\n",
      "10\n",
      "3\n",
      "2\n",
      "1\n",
      "1\n",
      "None\n"
     ]
    }
   ],
   "source": [
    "# package delivery\n",
    "\n",
    "#!/bin/python3\n",
    "\n",
    "import math\n",
    "import os\n",
    "import random\n",
    "import re\n",
    "import sys\n",
    "\n",
    "#\n",
    "# Complete the 'packageSearch' function below.\n",
    "#\n",
    "# The function is expected to return an INTEGER.\n",
    "# The function accepts following parameters:\n",
    "#  1. 2D_INTEGER_ARRAY packages\n",
    "#  2. INTEGER query_destination\n",
    "#  3. INTEGER query_deadline\n",
    "#  4. INTEGER query_weight\n",
    "#\n",
    "\n",
    "def packageSearch(packages, query_destination, query_deadline, query_weight):\n",
    "    for pack in packages:\n",
    "        if (pack[1] == query_destination) and (pack[2] == query_deadline) and (pack[3] == query_weight):\n",
    "            return pack[0]\n",
    "        \n",
    "    return -1\n",
    "    # Write your code here\n",
    "\n",
    "if __name__ == '__main__':\n",
    "#     fptr = open(os.environ['OUTPUT_PATH'], 'w')\n",
    "\n",
    "    query_destination = int(input().strip())\n",
    "\n",
    "    query_deadline = int(input().strip())\n",
    "\n",
    "    query_weight = int(input().strip())\n",
    "\n",
    "    packages_rows = int(input().strip())\n",
    "\n",
    "    packages = []\n",
    "\n",
    "    for _ in range(packages_rows):\n",
    "        packages.append(list(map(int, input().rstrip().split())))\n",
    "\n",
    "    result = packageSearch(packages, query_destination, query_deadline, query_weight)\n",
    "    print(result)\n",
    "\n",
    "#     fptr.write(str(result) + '\\n')\n",
    "\n",
    "#     fptr.close()\n"
   ]
  },
  {
   "cell_type": "code",
   "execution_count": null,
   "id": "ebaa8d96",
   "metadata": {},
   "outputs": [],
   "source": []
  },
  {
   "cell_type": "code",
   "execution_count": null,
   "id": "43576578",
   "metadata": {},
   "outputs": [],
   "source": []
  },
  {
   "cell_type": "code",
   "execution_count": null,
   "id": "7c4666b8",
   "metadata": {},
   "outputs": [],
   "source": []
  },
  {
   "cell_type": "code",
   "execution_count": null,
   "id": "259f4698",
   "metadata": {},
   "outputs": [],
   "source": []
  },
  {
   "cell_type": "code",
   "execution_count": null,
   "id": "f5082e2b",
   "metadata": {},
   "outputs": [],
   "source": []
  },
  {
   "cell_type": "code",
   "execution_count": null,
   "id": "9a3706dc",
   "metadata": {},
   "outputs": [],
   "source": []
  },
  {
   "cell_type": "code",
   "execution_count": null,
   "id": "d07adc8e",
   "metadata": {},
   "outputs": [],
   "source": []
  },
  {
   "cell_type": "code",
   "execution_count": null,
   "id": "13ec7771",
   "metadata": {},
   "outputs": [],
   "source": []
  },
  {
   "cell_type": "code",
   "execution_count": null,
   "id": "39966d3a",
   "metadata": {},
   "outputs": [],
   "source": []
  },
  {
   "cell_type": "code",
   "execution_count": null,
   "id": "f8c69803",
   "metadata": {},
   "outputs": [],
   "source": []
  },
  {
   "cell_type": "code",
   "execution_count": null,
   "id": "4175cb34",
   "metadata": {},
   "outputs": [],
   "source": []
  },
  {
   "cell_type": "code",
   "execution_count": null,
   "id": "7c08eb70",
   "metadata": {},
   "outputs": [],
   "source": []
  },
  {
   "cell_type": "code",
   "execution_count": null,
   "id": "e1213974",
   "metadata": {},
   "outputs": [],
   "source": []
  },
  {
   "cell_type": "code",
   "execution_count": null,
   "id": "98e9909b",
   "metadata": {},
   "outputs": [],
   "source": []
  },
  {
   "cell_type": "code",
   "execution_count": null,
   "id": "b25bb7e3",
   "metadata": {},
   "outputs": [],
   "source": []
  },
  {
   "cell_type": "code",
   "execution_count": null,
   "id": "a1d07012",
   "metadata": {},
   "outputs": [],
   "source": []
  },
  {
   "cell_type": "code",
   "execution_count": null,
   "id": "9741888e",
   "metadata": {},
   "outputs": [],
   "source": []
  },
  {
   "cell_type": "code",
   "execution_count": null,
   "id": "3bd59acd",
   "metadata": {},
   "outputs": [],
   "source": []
  },
  {
   "cell_type": "code",
   "execution_count": null,
   "id": "8ab4da21",
   "metadata": {},
   "outputs": [],
   "source": []
  },
  {
   "cell_type": "code",
   "execution_count": null,
   "id": "eebcea0e",
   "metadata": {},
   "outputs": [],
   "source": []
  },
  {
   "cell_type": "code",
   "execution_count": null,
   "id": "86f485aa",
   "metadata": {},
   "outputs": [],
   "source": []
  },
  {
   "cell_type": "code",
   "execution_count": null,
   "id": "f83cf4a8",
   "metadata": {},
   "outputs": [],
   "source": []
  },
  {
   "cell_type": "code",
   "execution_count": null,
   "id": "df5daadc",
   "metadata": {},
   "outputs": [],
   "source": []
  },
  {
   "cell_type": "code",
   "execution_count": null,
   "id": "7ef2a2e7",
   "metadata": {},
   "outputs": [],
   "source": []
  },
  {
   "cell_type": "code",
   "execution_count": null,
   "id": "f2f1c8f9",
   "metadata": {},
   "outputs": [],
   "source": []
  },
  {
   "cell_type": "code",
   "execution_count": null,
   "id": "b7e98e45",
   "metadata": {},
   "outputs": [],
   "source": []
  }
 ],
 "metadata": {
  "kernelspec": {
   "display_name": "Python 3 (ipykernel)",
   "language": "python",
   "name": "python3"
  },
  "language_info": {
   "codemirror_mode": {
    "name": "ipython",
    "version": 3
   },
   "file_extension": ".py",
   "mimetype": "text/x-python",
   "name": "python",
   "nbconvert_exporter": "python",
   "pygments_lexer": "ipython3",
   "version": "3.11.5"
  }
 },
 "nbformat": 4,
 "nbformat_minor": 5
}
