{
 "cells": [
  {
   "cell_type": "code",
   "execution_count": 4,
   "id": "c0631f44",
   "metadata": {},
   "outputs": [],
   "source": [
    "def compound_int(p,r,t):\n",
    "    return p*(((100+r)/100)**t)\n",
    "\n",
    "def simple_int(p,r,t):\n",
    "    return p+((p*t*r)/100)\n",
    "\n",
    "def simple_int_coumpounded(p,r,t,n):\n",
    "    pass"
   ]
  },
  {
   "cell_type": "code",
   "execution_count": 5,
   "id": "4f3d80d6",
   "metadata": {},
   "outputs": [
    {
     "data": {
      "text/plain": [
       "1.1025"
      ]
     },
     "execution_count": 5,
     "metadata": {},
     "output_type": "execute_result"
    }
   ],
   "source": [
    "compound_int(1,5,2)"
   ]
  },
  {
   "cell_type": "code",
   "execution_count": null,
   "id": "644807fd",
   "metadata": {},
   "outputs": [],
   "source": []
  },
  {
   "cell_type": "code",
   "execution_count": null,
   "id": "1a3d05fe",
   "metadata": {},
   "outputs": [],
   "source": []
  },
  {
   "cell_type": "code",
   "execution_count": null,
   "id": "5f7e13c3",
   "metadata": {},
   "outputs": [],
   "source": []
  },
  {
   "cell_type": "code",
   "execution_count": null,
   "id": "17f56bd0",
   "metadata": {},
   "outputs": [],
   "source": []
  },
  {
   "cell_type": "code",
   "execution_count": null,
   "id": "65c239f5",
   "metadata": {},
   "outputs": [],
   "source": []
  }
 ],
 "metadata": {
  "kernelspec": {
   "display_name": "Python 3 (ipykernel)",
   "language": "python",
   "name": "python3"
  },
  "language_info": {
   "codemirror_mode": {
    "name": "ipython",
    "version": 3
   },
   "file_extension": ".py",
   "mimetype": "text/x-python",
   "name": "python",
   "nbconvert_exporter": "python",
   "pygments_lexer": "ipython3",
   "version": "3.11.3"
  }
 },
 "nbformat": 4,
 "nbformat_minor": 5
}
