{
 "cells": [
  {
   "cell_type": "code",
   "execution_count": 2,
   "id": "ceeb7a1a",
   "metadata": {
    "scrolled": true
   },
   "outputs": [
    {
     "ename": "AttributeError",
     "evalue": "'dict' object has no attribute 'sort'",
     "output_type": "error",
     "traceback": [
      "\u001b[0;31m---------------------------------------------------------------------------\u001b[0m",
      "\u001b[0;31mAttributeError\u001b[0m                            Traceback (most recent call last)",
      "Cell \u001b[0;32mIn[2], line 3\u001b[0m\n\u001b[1;32m      1\u001b[0m dic \u001b[38;5;241m=\u001b[39m {\u001b[38;5;124m'\u001b[39m\u001b[38;5;124ma\u001b[39m\u001b[38;5;124m'\u001b[39m:\u001b[38;5;241m5\u001b[39m, \u001b[38;5;124m'\u001b[39m\u001b[38;5;124mb\u001b[39m\u001b[38;5;124m'\u001b[39m:\u001b[38;5;241m4\u001b[39m, \u001b[38;5;124m'\u001b[39m\u001b[38;5;124mc\u001b[39m\u001b[38;5;124m'\u001b[39m: \u001b[38;5;241m7\u001b[39m}\n\u001b[0;32m----> 3\u001b[0m dic\u001b[38;5;241m.\u001b[39msort()\n",
      "\u001b[0;31mAttributeError\u001b[0m: 'dict' object has no attribute 'sort'"
     ]
    }
   ],
   "source": [
    "dic = {'a':5, 'b':4, 'c': 7}\n",
    "\n",
    "dic.sort()"
   ]
  },
  {
   "cell_type": "code",
   "execution_count": null,
   "id": "f0e02677",
   "metadata": {},
   "outputs": [],
   "source": [
    "nums = [1,2,3,242,13,123,13,13,13,1,3,2,23,3131,21,2,12,1,31,3]\n",
    "d = {}\n",
    "for x in nums:\n",
    "    if x in d:\n",
    "        pass\n",
    "    else:\n",
    "        d[x] = 1"
   ]
  },
  {
   "cell_type": "code",
   "execution_count": 2,
   "id": "a3561b45",
   "metadata": {},
   "outputs": [
    {
     "name": "stdout",
     "output_type": "stream",
     "text": [
      "{'a': 0, 'b': 0, 'c': 0, 'd': 0, 'e': 0, 'f': 0, 'g': 0, 'h': 0, 'i': 0, 'j': 1, 'k': 0}\n"
     ]
    }
   ],
   "source": [
    "a = 'abcdefghijkj'\n",
    "d = {}\n",
    "for x in a:\n",
    "    if x not in d:\n",
    "        d[x] = 0\n",
    "    else:\n",
    "        d[x] = d[x]+1\n",
    "print(d)"
   ]
  },
  {
   "cell_type": "code",
   "execution_count": 4,
   "id": "2b2f6eb0",
   "metadata": {},
   "outputs": [
    {
     "name": "stdout",
     "output_type": "stream",
     "text": [
      "0 a\n",
      "1 n\n",
      "2 c\n",
      "3 u\n",
      "4 w\n",
      "5 e\n",
      "6 n\n",
      "7 c\n",
      "8 q\n",
      "9 n\n"
     ]
    }
   ],
   "source": [
    "a = 'ancuwencqn'\n",
    "for x, i in enumerate(a):\n",
    "    print(x,i)"
   ]
  },
  {
   "cell_type": "code",
   "execution_count": 5,
   "id": "5925c61c",
   "metadata": {},
   "outputs": [
    {
     "data": {
      "text/plain": [
       "10"
      ]
     },
     "execution_count": 5,
     "metadata": {},
     "output_type": "execute_result"
    }
   ],
   "source": [
    "len(a)"
   ]
  },
  {
   "cell_type": "code",
   "execution_count": null,
   "id": "a9437f35",
   "metadata": {},
   "outputs": [],
   "source": []
  },
  {
   "cell_type": "code",
   "execution_count": null,
   "id": "a9b1ef13",
   "metadata": {},
   "outputs": [],
   "source": []
  },
  {
   "cell_type": "code",
   "execution_count": null,
   "id": "e760b4c9",
   "metadata": {},
   "outputs": [],
   "source": []
  }
 ],
 "metadata": {
  "kernelspec": {
   "display_name": "Python 3 (ipykernel)",
   "language": "python",
   "name": "python3"
  },
  "language_info": {
   "codemirror_mode": {
    "name": "ipython",
    "version": 3
   },
   "file_extension": ".py",
   "mimetype": "text/x-python",
   "name": "python",
   "nbconvert_exporter": "python",
   "pygments_lexer": "ipython3",
   "version": "3.11.5"
  }
 },
 "nbformat": 4,
 "nbformat_minor": 5
}
