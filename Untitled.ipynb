{
 "cells": [
  {
   "cell_type": "code",
   "execution_count": 28,
   "id": "20839b2a",
   "metadata": {},
   "outputs": [
    {
     "name": "stdout",
     "output_type": "stream",
     "text": [
      "4\n"
     ]
    }
   ],
   "source": [
    "n= int(input())\n",
    "a = [i for i in range(n)]"
   ]
  },
  {
   "cell_type": "code",
   "execution_count": 29,
   "id": "84647bcb",
   "metadata": {
    "scrolled": true
   },
   "outputs": [
    {
     "name": "stdout",
     "output_type": "stream",
     "text": [
      "1 3 1\n",
      "2 3 2\n",
      "3 3 3\n"
     ]
    }
   ],
   "source": [
    "s = n+n-1\n",
    "i = 0\n",
    "j = len(a)-1\n",
    "count = 0\n",
    "while(i<j):\n",
    "    if a[i]+a[j] < s:\n",
    "        i = i+1\n",
    "        count = count+1\n",
    "        print(i,j,count)\n",
    "    elif a[i]+a[j]>s:\n",
    "        j = j- 1\n",
    "        count = count+1\n",
    "        print(i,j,count)\n",
    "    else:\n",
    "        print(i,j)\n",
    "        count = count+1\n",
    "        print(i,j,count)\n",
    "        break"
   ]
  },
  {
   "cell_type": "code",
   "execution_count": 30,
   "id": "0c264554",
   "metadata": {},
   "outputs": [
    {
     "name": "stdout",
     "output_type": "stream",
     "text": [
      "0 1 1\n",
      "0 2 2\n",
      "0 3 3\n",
      "1 2 4\n",
      "1 3 5\n",
      "2 3 6\n"
     ]
    }
   ],
   "source": [
    "count = 0\n",
    "s = n+n-1\n",
    "for i in range(len(a)-1):\n",
    "    for j in range(i+1, len(a)):\n",
    "        if a[i]+ a[j] == s :\n",
    "            print('found at ', i, j)\n",
    "            count = count+1\n",
    "            print(i,j, count)\n",
    "            break\n",
    "        count = count+1\n",
    "        print(i,j, count)\n",
    "            \n",
    "\n",
    "# for x in a:   # a.each do |x|\n",
    "#     print(x)"
   ]
  },
  {
   "cell_type": "code",
   "execution_count": 31,
   "id": "ea2f3849",
   "metadata": {},
   "outputs": [],
   "source": [
    "a = [0,1,2,3,4,5]\n",
    "ar = [5,4,3,2,1,0]"
   ]
  },
  {
   "cell_type": "code",
   "execution_count": 33,
   "id": "5cf6ca90",
   "metadata": {},
   "outputs": [
    {
     "name": "stdout",
     "output_type": "stream",
     "text": [
      "false\n"
     ]
    }
   ],
   "source": [
    "a = '54321012345'\n",
    "i =0\n",
    "j = len(a)-1\n",
    "while(i<j):\n",
    "    if a[i] == a[j]:\n",
    "        i= i+1\n",
    "        j = j-1\n",
    "    else:\n",
    "        print('false')\n",
    "        break\n",
    "else:\n",
    "    print('true')"
   ]
  },
  {
   "cell_type": "code",
   "execution_count": null,
   "id": "bd299b9f",
   "metadata": {},
   "outputs": [],
   "source": []
  }
 ],
 "metadata": {
  "kernelspec": {
   "display_name": "Python 3 (ipykernel)",
   "language": "python",
   "name": "python3"
  },
  "language_info": {
   "codemirror_mode": {
    "name": "ipython",
    "version": 3
   },
   "file_extension": ".py",
   "mimetype": "text/x-python",
   "name": "python",
   "nbconvert_exporter": "python",
   "pygments_lexer": "ipython3",
   "version": "3.11.3"
  }
 },
 "nbformat": 4,
 "nbformat_minor": 5
}
