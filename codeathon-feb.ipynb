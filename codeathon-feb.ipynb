{
 "cells": [
  {
   "cell_type": "code",
   "execution_count": 49,
   "id": "409391dd",
   "metadata": {},
   "outputs": [
    {
     "name": "stdout",
     "output_type": "stream",
     "text": [
      "6 0\n",
      "5 0\n",
      "5 1\n",
      "4 0\n",
      "4 1\n",
      "4 2\n",
      "3 0\n",
      "3 1\n",
      "3 2\n",
      "3 3\n",
      "2 0\n",
      "2 1\n",
      "2 2\n",
      "1 0\n",
      "1 1\n",
      "0 0\n",
      "[0, 1, 2, 3, 2, 1, 0]\n"
     ]
    },
    {
     "data": {
      "text/plain": [
       "'racecar'"
      ]
     },
     "execution_count": 49,
     "metadata": {},
     "output_type": "execute_result"
    }
   ],
   "source": [
    "a = 'racecar'\n",
    "pal = [-1]* len(a)\n",
    "for i in reversed(range(len(a))):\n",
    "    for j in range(i+1):\n",
    "        print(i,j)\n",
    "        if a[j:i+1] == a[j:i+1][::-1]:\n",
    "            pal[i] = j\n",
    "            break\n",
    "print(pal)\n",
    "\n",
    "ml = 0\n",
    "for i,x in enumerate(pal):\n",
    "    if x != -1:\n",
    "        l = i - x\n",
    "        if l > ml:\n",
    "            ml = l\n",
    "            si = x\n",
    "            ei = i\n",
    "a[si:ei+1]"
   ]
  },
  {
   "cell_type": "code",
   "execution_count": 48,
   "id": "65d4f1cc",
   "metadata": {},
   "outputs": [
    {
     "data": {
      "text/plain": [
       "'e'"
      ]
     },
     "execution_count": 48,
     "metadata": {},
     "output_type": "execute_result"
    }
   ],
   "source": [
    "a[3:3+1]"
   ]
  },
  {
   "cell_type": "code",
   "execution_count": null,
   "id": "3e8c9bd1",
   "metadata": {},
   "outputs": [],
   "source": []
  }
 ],
 "metadata": {
  "language_info": {
   "codemirror_mode": {
    "name": "ipython",
    "version": 3
   },
   "file_extension": ".py",
   "mimetype": "text/x-python",
   "name": "python",
   "nbconvert_exporter": "python",
   "pygments_lexer": "ipython3",
   "version": "3.11.5"
  }
 },
 "nbformat": 4,
 "nbformat_minor": 5
}
