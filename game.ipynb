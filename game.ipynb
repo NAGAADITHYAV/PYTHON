{
 "cells": [
  {
   "cell_type": "code",
   "execution_count": 26,
   "id": "a259afd8-00f4-44cd-924b-b5cad045c841",
   "metadata": {},
   "outputs": [
    {
     "name": "stdout",
     "output_type": "stream",
     "text": [
      "4\n"
     ]
    }
   ],
   "source": [
    "def min_delete_operations(grid, k):\n",
    "    n, m = len(grid), len(grid[0])\n",
    "    total_ops = 0\n",
    "    \n",
    "    for v in range(1, k + 1):\n",
    "        cells = {(i, j) for i in range(n) for j in range(m) if grid[i][j] == v}\n",
    "        \n",
    "        while cells:\n",
    "            i, j = next(iter(cells))\n",
    "\n",
    "            to_remove = {(x, y) for (x, y) in cells if x == i or y == j}\n",
    "            cells -= to_remove\n",
    "\n",
    "            total_ops += 1\n",
    "    \n",
    "    return total_ops\n",
    "\n",
    "grid = [\n",
    "    [1,1,2],\n",
    "    [2,2,2],\n",
    "    [1,2,2]\n",
    "]\n",
    "k = 2\n",
    "\n",
    "print(min_delete_operations(grid, k))  "
   ]
  },
  {
   "cell_type": "code",
   "execution_count": null,
   "id": "e3704e94-b960-4a10-ae8f-f2f0a27bc4b1",
   "metadata": {},
   "outputs": [],
   "source": []
  },
  {
   "cell_type": "code",
   "execution_count": null,
   "id": "f2cb1425-a8e5-4b95-b1fb-7110fdb6bb24",
   "metadata": {},
   "outputs": [],
   "source": []
  }
 ],
 "metadata": {
  "kernelspec": {
   "display_name": "Python [conda env:base] *",
   "language": "python",
   "name": "conda-base-py"
  },
  "language_info": {
   "codemirror_mode": {
    "name": "ipython",
    "version": 3
   },
   "file_extension": ".py",
   "mimetype": "text/x-python",
   "name": "python",
   "nbconvert_exporter": "python",
   "pygments_lexer": "ipython3",
   "version": "3.13.5"
  }
 },
 "nbformat": 4,
 "nbformat_minor": 5
}
