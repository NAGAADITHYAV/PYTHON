{
 "cells": [
  {
   "cell_type": "code",
   "execution_count": null,
   "id": "2301b105",
   "metadata": {},
   "outputs": [],
   "source": [
    "def maximumEntertainment(entertainment, r):\n",
    "    n = len(entertainment)\n",
    "    max_enjoyment = float('-inf')\n",
    "\n",
    "    # Iterate through all possible indices i, j, k\n",
    "    for i in range(n):\n",
    "        for j in range(i, n):\n",
    "            for k in range(j, n):\n",
    "                # Calculate the enjoyment score\n",
    "                enjoyment = entertainment[i] + r * entertainment[j] + (r ** 2) * entertainment[k]\n",
    "                # Update max_enjoyment if the current score is greater\n",
    "                max_enjoyment = max(max_enjoyment, enjoyment)\n",
    "    \n",
    "    return max_enjoyment"
   ]
  },
  {
   "cell_type": "code",
   "execution_count": 10,
   "id": "d2ae8a06",
   "metadata": {},
   "outputs": [
    {
     "name": "stdout",
     "output_type": "stream",
     "text": [
      "[-1, 2, -3, -4, 5]\n"
     ]
    },
    {
     "data": {
      "text/plain": [
       "0"
      ]
     },
     "execution_count": 10,
     "metadata": {},
     "output_type": "execute_result"
    }
   ],
   "source": [
    "def maximumEntertainment(entertainment, r):\n",
    "    if r>0:\n",
    "        maxi = max(entertainment)\n",
    "        max_enjoyment = maxi + (r * maxi) + ((r**2) * maxi)\n",
    "        return max_enjoyment\n",
    "    \n",
    "\n",
    "    return max_enjoyment\n",
    "    \n",
    "# e = [1,2,3,4,5]\n",
    "e = [-1,2,-3,-4,5]\n",
    "maximumEntertainment(e,-2)"
   ]
  },
  {
   "cell_type": "code",
   "execution_count": 5,
   "id": "4fc09deb",
   "metadata": {},
   "outputs": [
    {
     "name": "stdout",
     "output_type": "stream",
     "text": [
      "3\n"
     ]
    }
   ],
   "source": [
    "def getMinTikTokServerNetworkCost(x, y):\n",
    "    n = len(x)\n",
    "    edges = [(min(abs(x[i] - x[j]), abs(y[i] - y[j])), i, j) for i in range(n) for j in range(i + 1, n)]\n",
    "    edges.sort()\n",
    " \n",
    "    parent = list(range(n))\n",
    "    rank = [0] * n\n",
    "\n",
    "    def find(node):\n",
    "        if parent[node] != node:\n",
    "            parent[node] = find(parent[node])\n",
    "        return parent[node]\n",
    "\n",
    "    def union(node1, node2):\n",
    "        root1, root2 = find(node1), find(node2)\n",
    "        if root1 != root2:\n",
    "            if rank[root1] > rank[root2]:\n",
    "                parent[root2] = root1\n",
    "            elif rank[root1] < rank[root2]:\n",
    "                parent[root1] = root2\n",
    "            else:\n",
    "                parent[root2] = root1\n",
    "                rank[root1] += 1\n",
    "\n",
    "    return sum(cost for cost, i, j in edges if find(i) != find(j) and not union(i, j))\n",
    "    \n",
    "x = [4, 3, 2, 1] #[4, 3, 2, 1]\n",
    "y = [4, 3, 2, 1]\n",
    "print(getMinTikTokServerNetworkCost(x, y))"
   ]
  },
  {
   "cell_type": "code",
   "execution_count": 11,
   "id": "37e212cf",
   "metadata": {},
   "outputs": [
    {
     "data": {
      "text/plain": [
       "3"
      ]
     },
     "execution_count": 11,
     "metadata": {},
     "output_type": "execute_result"
    }
   ],
   "source": [
    "max([1,2,3])"
   ]
  },
  {
   "cell_type": "code",
   "execution_count": 4,
   "id": "3580b6b7",
   "metadata": {},
   "outputs": [
    {
     "name": "stdout",
     "output_type": "stream",
     "text": [
      "Maximum value: 30\n"
     ]
    }
   ],
   "source": [
    "def maximize_expression(arr, r):\n",
    "    n = len(arr)\n",
    "    if n == 0:\n",
    "        return 0\n",
    "    \n",
    "    # Initialize tracking arrays\n",
    "    max_i = float('-inf')\n",
    "    max_ij = float('-inf')\n",
    "    max_ijk = float('-inf')\n",
    "    \n",
    "    for x in range(n):\n",
    "        max_i = max(max_i, arr[x])  # Maximize arr[i]\n",
    "        max_ij = max(max_ij, max_i + r * arr[x])  # Maximize arr[i] + r * arr[j]\n",
    "        max_ijk = max(max_ijk, max_ij + r**2 * arr[x])  # Maximize arr[i] + r * arr[j] + r^2 * arr[k]\n",
    "    \n",
    "    return max_ijk\n",
    "\n",
    "# Example usage\n",
    "arr = [-1,2,-3,-4,5]\n",
    "r = -2\n",
    "result = maximize_expression(arr, r)\n",
    "print(\"Maximum value:\", result)\n"
   ]
  },
  {
   "cell_type": "code",
   "execution_count": null,
   "id": "7f514c51",
   "metadata": {},
   "outputs": [],
   "source": []
  },
  {
   "cell_type": "code",
   "execution_count": 1,
   "id": "b22214ad",
   "metadata": {},
   "outputs": [
    {
     "name": "stdout",
     "output_type": "stream",
     "text": [
      "1\n"
     ]
    }
   ],
   "source": [
    "def countSignals(frequencies, filterRanges):\n",
    "    # Start with an \"infinite\" possible range\n",
    "    low, high = float('-inf'), float('inf')\n",
    "    \n",
    "    # Intersect all the filter ranges\n",
    "    for f_range in filterRanges:\n",
    "        low  = max(low,  f_range[0])\n",
    "        high = min(high, f_range[1])\n",
    "    \n",
    "    # If the intersection is empty, no frequencies pass\n",
    "    if low > high:\n",
    "        return 0\n",
    "    \n",
    "    # Otherwise, count how many frequencies are in [low, high]\n",
    "    return sum(low <= freq <= high for freq in frequencies)\n",
    "\n",
    "# Example usage\n",
    "if __name__ == '__main__':\n",
    "    # Sample input\n",
    "    frequencies = [20, 5, 6, 7, 12]\n",
    "    filterRanges = [[10, 20], [5, 15], [5, 30]]\n",
    "    \n",
    "    # This should print 1, since only frequency 12 is within the intersection [10..15]\n",
    "    print(countSignals(frequencies, filterRanges))\n"
   ]
  },
  {
   "cell_type": "code",
   "execution_count": 2,
   "id": "2e4ca58c",
   "metadata": {},
   "outputs": [
    {
     "data": {
      "text/plain": [
       "0"
      ]
     },
     "execution_count": 2,
     "metadata": {},
     "output_type": "execute_result"
    }
   ],
   "source": [
    "def count(freq, filters):\n",
    "    minf, maxf = float('inf'), float('-inf')\n",
    "    for flt in filters:\n",
    "        if flt[0]> minf:\n",
    "            minf = flt[0]\n",
    "        if flt[1]< maxf:\n",
    "            maxf = flt[1]\n",
    "    if minf> maxf:\n",
    "        return 0\n",
    "    c = 0\n",
    "    for f in freq:\n",
    "        if (f >= minf) and (f<= maxf):\n",
    "            c += 1\n",
    "    return c\n",
    "count([20, 5, 6, 7, 12], [[10, 20], [5, 15], [5, 30]])"
   ]
  },
  {
   "cell_type": "code",
   "execution_count": null,
   "id": "243336a8",
   "metadata": {},
   "outputs": [],
   "source": []
  },
  {
   "cell_type": "code",
   "execution_count": null,
   "id": "d4649137",
   "metadata": {},
   "outputs": [],
   "source": []
  },
  {
   "cell_type": "code",
   "execution_count": null,
   "id": "d832c355",
   "metadata": {},
   "outputs": [],
   "source": []
  },
  {
   "cell_type": "code",
   "execution_count": null,
   "id": "16ff484c",
   "metadata": {},
   "outputs": [],
   "source": []
  }
 ],
 "metadata": {
  "kernelspec": {
   "display_name": "Python 3 (ipykernel)",
   "language": "python",
   "name": "python3"
  },
  "language_info": {
   "codemirror_mode": {
    "name": "ipython",
    "version": 3
   },
   "file_extension": ".py",
   "mimetype": "text/x-python",
   "name": "python",
   "nbconvert_exporter": "python",
   "pygments_lexer": "ipython3",
   "version": "3.11.5"
  }
 },
 "nbformat": 4,
 "nbformat_minor": 5
}
