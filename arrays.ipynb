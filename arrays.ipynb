{
 "cells": [
  {
   "cell_type": "code",
   "execution_count": 5,
   "id": "3add1bcd",
   "metadata": {},
   "outputs": [],
   "source": [
    "a = [1,2,3,4,5]"
   ]
  },
  {
   "cell_type": "code",
   "execution_count": 6,
   "id": "f4afbcb0",
   "metadata": {},
   "outputs": [
    {
     "data": {
      "text/plain": [
       "[3, 4, 5, 1, 2]"
      ]
     },
     "execution_count": 6,
     "metadata": {},
     "output_type": "execute_result"
    }
   ],
   "source": [
    "k=3\n",
    "a[k-1:]+a[:k-1]"
   ]
  },
  {
   "cell_type": "code",
   "execution_count": 8,
   "id": "3f17dd31",
   "metadata": {},
   "outputs": [],
   "source": [
    "class Solution:\n",
    "    def largest_container(self, heights) -> int:\n",
    "        # i thought only equal heights are considered\n",
    "        # heights_dict = {}\n",
    "        # max_area = 0\n",
    "        # for i in range(len(heights)):\n",
    "        #     if heights[i] in heights_dict:\n",
    "        #         max_area = max(heights[i]*(i-heights_dict[heights[i]]), max_area)\n",
    "        #     else:\n",
    "        #         heights_dict[heights[i]] = i\n",
    "        # return max_area\n",
    "        i = 0\n",
    "        j = len(heights)-1\n",
    "        area = 0\n",
    "\n",
    "        while(i<j):\n",
    "            area = max(area, (j-i)*min(heights[i], heights[j]))\n",
    "\n",
    "            if heights[i]< heights[j]:\n",
    "                i = i+1\n",
    "            else:\n",
    "                j= j-1\n",
    "\n",
    "        return area"
   ]
  },
  {
   "cell_type": "code",
   "execution_count": 8,
   "id": "ca5c7bad",
   "metadata": {},
   "outputs": [
    {
     "data": {
      "text/plain": [
       "['1', '2', '3', '4', '5', '6']"
      ]
     },
     "execution_count": 8,
     "metadata": {},
     "output_type": "execute_result"
    }
   ],
   "source": [
    "a = ['6','1','2','3','4','5']\n",
    "a.sort()\n",
    "a"
   ]
  },
  {
   "cell_type": "code",
   "execution_count": 4,
   "id": "df274cd9",
   "metadata": {},
   "outputs": [
    {
     "data": {
      "text/plain": [
       "['a', 'b', 'd', 'f']"
      ]
     },
     "execution_count": 4,
     "metadata": {},
     "output_type": "execute_result"
    }
   ],
   "source": [
    "a = 'abdf'\n",
    "list(a)"
   ]
  },
  {
   "cell_type": "code",
   "execution_count": 5,
   "id": "79ad2517",
   "metadata": {},
   "outputs": [
    {
     "ename": "AttributeError",
     "evalue": "'str' object has no attribute 'sort'",
     "output_type": "error",
     "traceback": [
      "\u001b[1;31m---------------------------------------------------------------------------\u001b[0m",
      "\u001b[1;31mAttributeError\u001b[0m                            Traceback (most recent call last)",
      "Cell \u001b[1;32mIn[5], line 1\u001b[0m\n\u001b[1;32m----> 1\u001b[0m a\u001b[38;5;241m.\u001b[39msort()\n",
      "\u001b[1;31mAttributeError\u001b[0m: 'str' object has no attribute 'sort'"
     ]
    }
   ],
   "source": [
    "a.sort()"
   ]
  },
  {
   "cell_type": "code",
   "execution_count": 10,
   "id": "0e56574e",
   "metadata": {},
   "outputs": [
    {
     "name": "stdout",
     "output_type": "stream",
     "text": [
      "a 1\n",
      "b 2\n"
     ]
    }
   ],
   "source": [
    "d = {'a':1,'b':2}\n",
    "for x in d:\n",
    "    print(x, d[x])"
   ]
  },
  {
   "cell_type": "code",
   "execution_count": 2,
   "id": "68c00ecc",
   "metadata": {},
   "outputs": [
    {
     "name": "stdout",
     "output_type": "stream",
     "text": [
      "1\n",
      "6\n",
      "2\n",
      "6\n",
      "3\n",
      "6\n",
      "4\n",
      "6\n",
      "5\n",
      "6\n"
     ]
    }
   ],
   "source": [
    "a = [1,2,3,4,5]\n",
    "b = [6,7,8,9]\n",
    "for x in a:\n",
    "    print(x)\n",
    "    for y in b:\n",
    "        if y == 7:\n",
    "            break\n",
    "        print(y)"
   ]
  },
  {
   "cell_type": "code",
   "execution_count": 11,
   "id": "bd103fd5",
   "metadata": {},
   "outputs": [
    {
     "data": {
      "text/plain": [
       "10"
      ]
     },
     "execution_count": 11,
     "metadata": {},
     "output_type": "execute_result"
    }
   ],
   "source": [
    "abs(4-(-6))"
   ]
  },
  {
   "cell_type": "code",
   "execution_count": 7,
   "id": "bbdc802d",
   "metadata": {},
   "outputs": [
    {
     "data": {
      "text/plain": [
       "5"
      ]
     },
     "execution_count": 7,
     "metadata": {},
     "output_type": "execute_result"
    }
   ],
   "source": [
    "sum(a[1:3])"
   ]
  },
  {
   "cell_type": "code",
   "execution_count": 15,
   "id": "cbc3918c",
   "metadata": {},
   "outputs": [],
   "source": [
    "def swap(i,j):\n",
    "    return [i,j] if i<j else [j,i]"
   ]
  },
  {
   "cell_type": "code",
   "execution_count": 17,
   "id": "0b7604c4",
   "metadata": {},
   "outputs": [],
   "source": [
    "a,b = swap(2,1)"
   ]
  },
  {
   "cell_type": "code",
   "execution_count": 18,
   "id": "2ded8094",
   "metadata": {},
   "outputs": [
    {
     "data": {
      "text/plain": [
       "1"
      ]
     },
     "execution_count": 18,
     "metadata": {},
     "output_type": "execute_result"
    }
   ],
   "source": [
    "a"
   ]
  },
  {
   "cell_type": "code",
   "execution_count": 68,
   "id": "5177055e",
   "metadata": {},
   "outputs": [],
   "source": [
    "from collections import defaultdict\n",
    "def maximumSubarraySum( nums, k):\n",
    "    inf = float('inf')\n",
    "    max_sum, prefix_sum, val_to_min_prefix_sum = -inf, 0, defaultdict(lambda: inf)\n",
    "    for i, num in enumerate(nums):\n",
    "        if val_to_min_prefix_sum[num] > prefix_sum:\n",
    "            val_to_min_prefix_sum[num] = prefix_sum\n",
    "        prefix_sum += num\n",
    "        max_sum = max(max_sum, prefix_sum - val_to_min_prefix_sum[num + k], prefix_sum - val_to_min_prefix_sum[num - k])\n",
    "#         if max_sum == 182:\n",
    "#             print(i, nums[i])\n",
    "    return max_sum if max_sum > -inf else 0 "
   ]
  },
  {
   "cell_type": "code",
   "execution_count": 18,
   "id": "3e8faf91",
   "metadata": {},
   "outputs": [],
   "source": [
    "\n"
   ]
  },
  {
   "cell_type": "code",
   "execution_count": 20,
   "id": "390ecee6",
   "metadata": {},
   "outputs": [
    {
     "data": {
      "text/plain": [
       "-inf"
      ]
     },
     "execution_count": 20,
     "metadata": {},
     "output_type": "execute_result"
    }
   ],
   "source": [
    "def maximumSubarraySum(nums, k):\n",
    "    d = {}\n",
    "    runsum = 0\n",
    "    inf = float('inf')\n",
    "    maxsum = -inf\n",
    "    for i, num in enumerate(nums):\n",
    "        if num - k in d:\n",
    "            maxsum = max(maxsum, runsum - d[num-k] + num)\n",
    "        if num + k in d: \n",
    "            maxsum = max(maxsum, runsum - d[num+k] + num)\n",
    "        if num not in d:\n",
    "            d[num] = runsum\n",
    "        else:\n",
    "            d[num] = min(d[num], runsum)\n",
    "        runsum = runsum + num\n",
    "    return maxsum\n",
    "\n",
    "#nums = [-10,4,6,6,-7,0,-10,-5,10,10,-1,-7,4,-9,1,-4,3,-5,1,8,-5,8,7,10,5,0,-5,-10,-3,-2,5,-10,8,9,-3,-6,-1,9,4,4,-8,-5,3,3,2,-10,2,5,1,-7,-2,-8,7,-7,-9,-1,1,-7,-6,7,7,2,-1,4,-7,-8,-2,-5,6,-6,-7,9,-6,-1,-5,-9,3,9,1,-5,-8,-8,-10,10,-5,8,-8,1,10,-5,10,1,-5,0,-7,-7,-5,-10,3,3,1,9,-5,0,6,-5,-9,7,0,-2,5,2,-8,0,2,10,9,8,9,10,-8,5,-7,6,9,4,-10,-10,3,-4,-7,2,0,8,8,-3,-10,-1,4,-6,-10,-7,-4,-9,-10,4,7,-1,10,-2,2,-6,-7,4,-7,-2,-7,-5,-9,5,-3,-7,8,-1,-3,9,3,-2,-3,10,0,7,-5,10,2,-6,-4,7,8,-7,4,-3,2,-3,5,1,5,10,-2,-2,-2,-6,-8,-1,8,-7,5,10,7,-8,0,7,-5,3,10,3,0,-1,5,-4,-1,0,-8,-8,8,6,4,9,-7,5,10,-1,-7,10,-5,-10,10,7,6,-5,-1,-9,-4,-5,-9,3,-10,3,9,2,0,-5,10,8,8,6,-2,-6,2,-4,-8,-3,6,-4,3,9,-4,-5,-9,-1,-9,-7,-7,5,2,-6,-8,-4,5,-5,2,1,-6,-10,-1,-8,7,1,0,-2,-6,-9,0,-8,-1,-5,-3,2,-4,7,-10,-6,-7,-8,2,1,-4,-3,-7,-5,-10,-4,-7,-2,-9,-1,-1,-1,-4,-6,-5,-5,8,9,-2,5,-9,-9,-6,-7,10,-9,-10,-10,-7,-7,-9,-8,4,10,-6,-10,3,0,-5,-9,-4,-4,1,0,-9,7,9,-7,-5,2,7,6,3,-6,4,-5,-2,-10,8,-7,-5,-8,10,0,-9,5,1,-4,-4,-6,5,10,9,8,-3,8,-2,-2,5,10,-2,3,3,-9,5,3,-8,8,0,7,3,-4,-1,10,-6,-1,-8,1,6,-7,8,-9,7,-10,-6,-10,-1,8,1,10,9,-7,-2,6,-1,2,10,-10,-3,-6,4,2,-1,1,-10,5,1,-4,1,5,3,6,2,10,-8,10,-2,-8,1,-5,-5,1,6,2,-10,-2,-7,-9,0,-6,-7,1,8,-1,-10,9,-10,9,-2,10,2,8,-8,8,10,0,2,-9,1,5,8,-7,1,5,-9,-1,3,-4,4,-4,-10,1,-5,-8,9,5,7,-4,-10,-3,10,-9,-1,6,7,-9,-10,5,-1,-6,7,4,4,2,-9,8,-5,10,5,-1,-7,3,6,8,8,4,-10,1,-10,-2,-6,-2,-8,2,-10,4,-2,8,-8,6,5,-2,-6,1,-6,-10,3,5,-7,-6,9,5,10,8,8,-6,8,-9,-6,5,-7,-2,1,-4,1,-3,-1,-1,4,7,5,-3,3,8,10,9,-3,-4,0,-6,9,7,6,-7,-7,2,6,-3,-4,9,10,-3,4,0,0,9,9,3,-9,2,-1,2,3,8,6,-3,8,-10,-5,1,-8,9,3,7,2,-5,7,8,0,3,0,9,7,-4,-5,-1,-9,2,5,-3,-8,-9,8,-4,2,2,-10,-7,0,5,0,2,8,7,6,6,6,3,8,-1,-2,-8,5,0,2,-1,-4,-10,-9,-1,-9,10,5,-8,-7,-2,-9,8,5,7,4,4,-8,6,-5,8,10,-3,2,-9,9,-1,-4,-3,2,0,3,-4,-5,8,9,-5,-4,0,0,5,6,6,5,-5,-5,1,-1,-3,-8,-7,-2,-1,-1,10,-4,-2,-9,6,-3,7,1,4,-5,9,-4,3,6,3,-9,1,-5,5,7,-10,-6,4,-6,-5,9,2,-9,3,-9,-9,0,0,3,-7,-1,-1,-4,0,-9,3,-8,6,9,0,-10,-7,-2,-9,5,-9,10,10,-6,7,-2,-5,-7,-8,9,3,6,3,-3,-5,7,3,2,5,9,7,-2,1,10,6,1,4,-4,-6,3,3,6,-2,2,8,6,2,1,8,-6,-4,1,-9,6,5,0,-3,7,-1,-4,6,-2,7,10,-4,-3,-10,-5,1,6,-5,1,5,-4,8,9,-7,7,-8,6,3,-1,4,-3,-8,-9,-3,-8,8,-5,6,-7,5,0,-1,0,-7,-4,5,7,8,10,-3,-3,-5,-3,6,-6,-3,-2,5,2,0,-1,-6,-6,-9,-10,3,-6,-3,-9,5,10,-6,3,6,-1,4,1,-1,5,4,0,-2,8,4,-7,-8,10,-7,-4,-2,2,10,-7,-8,-10,7,-9,-8,4,5,-9,-3,-7,3,7,-10,-4,-8,10,-6,5,-6,-8,8,-1,1,-6,10,-6,-1,-2,6,-3,3,-4,9,4,-4,6,8,3,10,-5,-1,3,2,-2,-7,4,-4,-2,-2,3,4,0,-3,2,2,0,-1,-1,-5,-10,-6,10,5,-9,-6,-5,8,10,0,-10,-10,6,2,-4,-6,-3,4,-10,7,-9,-7,2,9,2,1,4,-10,10,-7,5,-3,-4,-8,-6,7,10,4,10,8,-8,5,1,0,8,-2,0,-9,1,-3,1,-1,-1,5,-5,5,-5,-4,-10,-7]\n",
    "nums = [1,5]\n",
    "maximumSubarraySum(nums, 1)"
   ]
  },
  {
   "cell_type": "code",
   "execution_count": 4,
   "id": "b7fb3553",
   "metadata": {},
   "outputs": [
    {
     "data": {
      "text/plain": [
       "677"
      ]
     },
     "execution_count": 4,
     "metadata": {},
     "output_type": "execute_result"
    }
   ],
   "source": [
    "\n",
    "def maximumSubarraySum(nums, k):\n",
    "    maxsum = 0\n",
    "    prefix_sum = {0: -1}  # Stores the prefix sums encountered so far\n",
    "    current_sum = 0\n",
    "\n",
    "    for i, num in enumerate(nums):\n",
    "        current_sum += num\n",
    "\n",
    "        # Check if the current prefix sum - k exists\n",
    "        if current_sum - k in prefix_sum:\n",
    "            maxsum = max(maxsum, i - prefix_sum[current_sum - k])\n",
    "\n",
    "        # If the current prefix sum doesn't exist, add it to the dictionary\n",
    "        if current_sum not in prefix_sum:\n",
    "            prefix_sum[current_sum] = i\n",
    "\n",
    "    return maxsum\n",
    "\n",
    "nums = [-10,4,6,6,-7,0,-10,-5,10,10,-1,-7,4,-9,1,-4,3,-5,1,8,-5,8,7,10,5,0,-5,-10,-3,-2,5,-10,8,9,-3,-6,-1,9,4,4,-8,-5,3,3,2,-10,2,5,1,-7,-2,-8,7,-7,-9,-1,1,-7,-6,7,7,2,-1,4,-7,-8,-2,-5,6,-6,-7,9,-6,-1,-5,-9,3,9,1,-5,-8,-8,-10,10,-5,8,-8,1,10,-5,10,1,-5,0,-7,-7,-5,-10,3,3,1,9,-5,0,6,-5,-9,7,0,-2,5,2,-8,0,2,10,9,8,9,10,-8,5,-7,6,9,4,-10,-10,3,-4,-7,2,0,8,8,-3,-10,-1,4,-6,-10,-7,-4,-9,-10,4,7,-1,10,-2,2,-6,-7,4,-7,-2,-7,-5,-9,5,-3,-7,8,-1,-3,9,3,-2,-3,10,0,7,-5,10,2,-6,-4,7,8,-7,4,-3,2,-3,5,1,5,10,-2,-2,-2,-6,-8,-1,8,-7,5,10,7,-8,0,7,-5,3,10,3,0,-1,5,-4,-1,0,-8,-8,8,6,4,9,-7,5,10,-1,-7,10,-5,-10,10,7,6,-5,-1,-9,-4,-5,-9,3,-10,3,9,2,0,-5,10,8,8,6,-2,-6,2,-4,-8,-3,6,-4,3,9,-4,-5,-9,-1,-9,-7,-7,5,2,-6,-8,-4,5,-5,2,1,-6,-10,-1,-8,7,1,0,-2,-6,-9,0,-8,-1,-5,-3,2,-4,7,-10,-6,-7,-8,2,1,-4,-3,-7,-5,-10,-4,-7,-2,-9,-1,-1,-1,-4,-6,-5,-5,8,9,-2,5,-9,-9,-6,-7,10,-9,-10,-10,-7,-7,-9,-8,4,10,-6,-10,3,0,-5,-9,-4,-4,1,0,-9,7,9,-7,-5,2,7,6,3,-6,4,-5,-2,-10,8,-7,-5,-8,10,0,-9,5,1,-4,-4,-6,5,10,9,8,-3,8,-2,-2,5,10,-2,3,3,-9,5,3,-8,8,0,7,3,-4,-1,10,-6,-1,-8,1,6,-7,8,-9,7,-10,-6,-10,-1,8,1,10,9,-7,-2,6,-1,2,10,-10,-3,-6,4,2,-1,1,-10,5,1,-4,1,5,3,6,2,10,-8,10,-2,-8,1,-5,-5,1,6,2,-10,-2,-7,-9,0,-6,-7,1,8,-1,-10,9,-10,9,-2,10,2,8,-8,8,10,0,2,-9,1,5,8,-7,1,5,-9,-1,3,-4,4,-4,-10,1,-5,-8,9,5,7,-4,-10,-3,10,-9,-1,6,7,-9,-10,5,-1,-6,7,4,4,2,-9,8,-5,10,5,-1,-7,3,6,8,8,4,-10,1,-10,-2,-6,-2,-8,2,-10,4,-2,8,-8,6,5,-2,-6,1,-6,-10,3,5,-7,-6,9,5,10,8,8,-6,8,-9,-6,5,-7,-2,1,-4,1,-3,-1,-1,4,7,5,-3,3,8,10,9,-3,-4,0,-6,9,7,6,-7,-7,2,6,-3,-4,9,10,-3,4,0,0,9,9,3,-9,2,-1,2,3,8,6,-3,8,-10,-5,1,-8,9,3,7,2,-5,7,8,0,3,0,9,7,-4,-5,-1,-9,2,5,-3,-8,-9,8,-4,2,2,-10,-7,0,5,0,2,8,7,6,6,6,3,8,-1,-2,-8,5,0,2,-1,-4,-10,-9,-1,-9,10,5,-8,-7,-2,-9,8,5,7,4,4,-8,6,-5,8,10,-3,2,-9,9,-1,-4,-3,2,0,3,-4,-5,8,9,-5,-4,0,0,5,6,6,5,-5,-5,1,-1,-3,-8,-7,-2,-1,-1,10,-4,-2,-9,6,-3,7,1,4,-5,9,-4,3,6,3,-9,1,-5,5,7,-10,-6,4,-6,-5,9,2,-9,3,-9,-9,0,0,3,-7,-1,-1,-4,0,-9,3,-8,6,9,0,-10,-7,-2,-9,5,-9,10,10,-6,7,-2,-5,-7,-8,9,3,6,3,-3,-5,7,3,2,5,9,7,-2,1,10,6,1,4,-4,-6,3,3,6,-2,2,8,6,2,1,8,-6,-4,1,-9,6,5,0,-3,7,-1,-4,6,-2,7,10,-4,-3,-10,-5,1,6,-5,1,5,-4,8,9,-7,7,-8,6,3,-1,4,-3,-8,-9,-3,-8,8,-5,6,-7,5,0,-1,0,-7,-4,5,7,8,10,-3,-3,-5,-3,6,-6,-3,-2,5,2,0,-1,-6,-6,-9,-10,3,-6,-3,-9,5,10,-6,3,6,-1,4,1,-1,5,4,0,-2,8,4,-7,-8,10,-7,-4,-2,2,10,-7,-8,-10,7,-9,-8,4,5,-9,-3,-7,3,7,-10,-4,-8,10,-6,5,-6,-8,8,-1,1,-6,10,-6,-1,-2,6,-3,3,-4,9,4,-4,6,8,3,10,-5,-1,3,2,-2,-7,4,-4,-2,-2,3,4,0,-3,2,2,0,-1,-1,-5,-10,-6,10,5,-9,-6,-5,8,10,0,-10,-10,6,2,-4,-6,-3,4,-10,7,-9,-7,2,9,2,1,4,-10,10,-7,5,-3,-4,-8,-6,7,10,4,10,8,-8,5,1,0,8,-2,0,-9,1,-3,1,-1,-1,5,-5,5,-5,-4,-10,-7]\n",
    "maximumSubarraySum(nums, 13)"
   ]
  },
  {
   "cell_type": "code",
   "execution_count": 57,
   "id": "e8d9c388",
   "metadata": {},
   "outputs": [
    {
     "data": {
      "text/plain": [
       "13"
      ]
     },
     "execution_count": 57,
     "metadata": {},
     "output_type": "execute_result"
    }
   ],
   "source": [
    "k"
   ]
  },
  {
   "cell_type": "code",
   "execution_count": null,
   "id": "e62a2797",
   "metadata": {},
   "outputs": [],
   "source": []
  },
  {
   "cell_type": "code",
   "execution_count": null,
   "id": "81ff7c6c",
   "metadata": {},
   "outputs": [],
   "source": []
  },
  {
   "cell_type": "code",
   "execution_count": null,
   "id": "102e73d4",
   "metadata": {},
   "outputs": [],
   "source": []
  },
  {
   "cell_type": "code",
   "execution_count": 32,
   "id": "9e8c0a9a",
   "metadata": {},
   "outputs": [
    {
     "data": {
      "text/plain": [
       "31"
      ]
     },
     "execution_count": 32,
     "metadata": {},
     "output_type": "execute_result"
    }
   ],
   "source": [
    "sum(nums[818-30:819])"
   ]
  },
  {
   "cell_type": "code",
   "execution_count": 37,
   "id": "8ccc935d",
   "metadata": {},
   "outputs": [
    {
     "name": "stdout",
     "output_type": "stream",
     "text": [
      "365 181\n",
      "366 187\n",
      "367 182\n"
     ]
    }
   ],
   "source": [
    "for i in range(len(nums)):\n",
    "    if sum(nums[i: 819]) >180:\n",
    "        print(i, sum(nums[i: 819]))"
   ]
  },
  {
   "cell_type": "code",
   "execution_count": 38,
   "id": "1087aa43",
   "metadata": {},
   "outputs": [
    {
     "data": {
      "text/plain": [
       "10"
      ]
     },
     "execution_count": 38,
     "metadata": {},
     "output_type": "execute_result"
    }
   ],
   "source": [
    "nums[367]"
   ]
  },
  {
   "cell_type": "code",
   "execution_count": 3,
   "id": "ec534c01",
   "metadata": {},
   "outputs": [
    {
     "data": {
      "text/plain": [
       "'dw whwbhdbsa'"
      ]
     },
     "execution_count": 3,
     "metadata": {},
     "output_type": "execute_result"
    }
   ],
   "source": [
    "a = 'asbdhbwhw wd'\n",
    "a[::-1]"
   ]
  },
  {
   "cell_type": "code",
   "execution_count": 3,
   "id": "e4ffe00a",
   "metadata": {},
   "outputs": [
    {
     "data": {
      "text/plain": [
       "[[4, 5], [2, 3], [1, 2]]"
      ]
     },
     "execution_count": 3,
     "metadata": {},
     "output_type": "execute_result"
    }
   ],
   "source": [
    "a = [[1,2], [2,3], [4,5]]\n",
    "a.sort(key= lambda x: x[1], reverse= True)\n",
    "a"
   ]
  },
  {
   "cell_type": "code",
   "execution_count": 1,
   "id": "00e18428",
   "metadata": {},
   "outputs": [
    {
     "data": {
      "text/plain": [
       "3"
      ]
     },
     "execution_count": 1,
     "metadata": {},
     "output_type": "execute_result"
    }
   ],
   "source": [
    "\n",
    "a = [1,2,3]\n",
    "a.pop()"
   ]
  },
  {
   "cell_type": "code",
   "execution_count": 2,
   "id": "2f72c07b",
   "metadata": {},
   "outputs": [
    {
     "data": {
      "text/plain": [
       "[1, 2]"
      ]
     },
     "execution_count": 2,
     "metadata": {},
     "output_type": "execute_result"
    }
   ],
   "source": [
    "a"
   ]
  },
  {
   "cell_type": "code",
   "execution_count": null,
   "id": "17951f64",
   "metadata": {},
   "outputs": [],
   "source": [
    "class Solution:\n",
    "    def insert(self, intervals: List[List[int]], newInterval: List[int]) -> List[List[int]]:\n",
    "        res = [newInterval]\n",
    "        for interval in intervals:\n",
    "            mi = res.pop()\n",
    "            if self.merge_possible(interval, mi):\n",
    "                res.append(self.merged_interval(interval, mi))\n",
    "            else:\n",
    "                res.append(self.sorted_intervals(interval, mi)[0])\n",
    "                res.append(self.sorted_intervals(interval, mi)[1])\n",
    "        return res\n",
    "\n",
    "    def merge_possible(self, interval, merge_interval):\n",
    "        if (interval[0] <= merge_interval[0] <= interval[1]) or (interval[0] <= merge_interval[1] <= interval[1]) or (interval[0]>merge_interval[0] and interval[1]<merge_interval[1]):\n",
    "            return True\n",
    "        return False\n",
    "\n",
    "    def merged_interval(self, interval, merge_interval):\n",
    "        return [min(interval[0], merge_interval[0]), max(interval[1], merge_interval[1])]\n",
    "\n",
    "    def sorted_intervals(self, interval, merge_interval):\n",
    "        if interval[0]< merge_interval[0]:\n",
    "            return [interval, merge_interval]\n",
    "        return [merge_interval, interval]"
   ]
  },
  {
   "cell_type": "code",
   "execution_count": 4,
   "id": "90b793a6",
   "metadata": {},
   "outputs": [
    {
     "ename": "SyntaxError",
     "evalue": "invalid syntax (1835587563.py, line 2)",
     "output_type": "error",
     "traceback": [
      "\u001b[0;36m  Cell \u001b[0;32mIn[4], line 2\u001b[0;36m\u001b[0m\n\u001b[0;31m    a.sort(key: x:a[0][1])\u001b[0m\n\u001b[0m              ^\u001b[0m\n\u001b[0;31mSyntaxError\u001b[0m\u001b[0;31m:\u001b[0m invalid syntax\n"
     ]
    }
   ],
   "source": [
    "a = [[1,2], [2,-1]]\n",
    "a.sort(key: x:a[0][1])"
   ]
  },
  {
   "cell_type": "code",
   "execution_count": 6,
   "id": "f74336e1",
   "metadata": {},
   "outputs": [],
   "source": [
    "def me1(var):\n",
    "    global var2\n",
    "    var2 = var\n",
    "me1(2)"
   ]
  },
  {
   "cell_type": "code",
   "execution_count": 7,
   "id": "fc14b2c6",
   "metadata": {},
   "outputs": [
    {
     "data": {
      "text/plain": [
       "2"
      ]
     },
     "execution_count": 7,
     "metadata": {},
     "output_type": "execute_result"
    }
   ],
   "source": [
    "var2"
   ]
  },
  {
   "cell_type": "code",
   "execution_count": 8,
   "id": "8b29d42d",
   "metadata": {},
   "outputs": [
    {
     "data": {
      "text/plain": [
       "int"
      ]
     },
     "execution_count": 8,
     "metadata": {},
     "output_type": "execute_result"
    }
   ],
   "source": [
    "type(5)"
   ]
  },
  {
   "cell_type": "code",
   "execution_count": 9,
   "id": "6c8fe425",
   "metadata": {},
   "outputs": [
    {
     "data": {
      "text/plain": [
       "str"
      ]
     },
     "execution_count": 9,
     "metadata": {},
     "output_type": "execute_result"
    }
   ],
   "source": [
    "type('assdv')"
   ]
  },
  {
   "cell_type": "code",
   "execution_count": 10,
   "id": "7f3230f0",
   "metadata": {},
   "outputs": [
    {
     "data": {
      "text/plain": [
       "float"
      ]
     },
     "execution_count": 10,
     "metadata": {},
     "output_type": "execute_result"
    }
   ],
   "source": [
    "type(45.5)"
   ]
  },
  {
   "cell_type": "code",
   "execution_count": 12,
   "id": "3243c390",
   "metadata": {},
   "outputs": [
    {
     "data": {
      "text/plain": [
       "list"
      ]
     },
     "execution_count": 12,
     "metadata": {},
     "output_type": "execute_result"
    }
   ],
   "source": [
    "type([a,'b',10.4])"
   ]
  },
  {
   "cell_type": "code",
   "execution_count": 13,
   "id": "32cc82a7",
   "metadata": {},
   "outputs": [
    {
     "data": {
      "text/plain": [
       "tuple"
      ]
     },
     "execution_count": 13,
     "metadata": {},
     "output_type": "execute_result"
    }
   ],
   "source": [
    "type((a,'b',10.4))"
   ]
  },
  {
   "cell_type": "code",
   "execution_count": 15,
   "id": "91a6eaca",
   "metadata": {},
   "outputs": [
    {
     "data": {
      "text/plain": [
       "dict"
      ]
     },
     "execution_count": 15,
     "metadata": {},
     "output_type": "execute_result"
    }
   ],
   "source": [
    "type({'a':1, 'b':a})"
   ]
  },
  {
   "cell_type": "code",
   "execution_count": 16,
   "id": "518745a1",
   "metadata": {},
   "outputs": [
    {
     "data": {
      "text/plain": [
       "bool"
      ]
     },
     "execution_count": 16,
     "metadata": {},
     "output_type": "execute_result"
    }
   ],
   "source": [
    "type(True)"
   ]
  },
  {
   "cell_type": "code",
   "execution_count": 20,
   "id": "4408a6fd",
   "metadata": {},
   "outputs": [
    {
     "data": {
      "text/plain": [
       "complex"
      ]
     },
     "execution_count": 20,
     "metadata": {},
     "output_type": "execute_result"
    }
   ],
   "source": [
    "type(complex(5,4))"
   ]
  },
  {
   "cell_type": "code",
   "execution_count": 22,
   "id": "6c7266f4",
   "metadata": {},
   "outputs": [
    {
     "data": {
      "text/plain": [
       "complex"
      ]
     },
     "execution_count": 22,
     "metadata": {},
     "output_type": "execute_result"
    }
   ],
   "source": [
    "type(5+6j)"
   ]
  },
  {
   "cell_type": "code",
   "execution_count": 23,
   "id": "81ed4db6",
   "metadata": {},
   "outputs": [
    {
     "ename": "NameError",
     "evalue": "name 'random' is not defined",
     "output_type": "error",
     "traceback": [
      "\u001b[0;31m---------------------------------------------------------------------------\u001b[0m",
      "\u001b[0;31mNameError\u001b[0m                                 Traceback (most recent call last)",
      "Cell \u001b[0;32mIn[23], line 1\u001b[0m\n\u001b[0;32m----> 1\u001b[0m random\u001b[38;5;241m.\u001b[39mrandrange(\u001b[38;5;241m1\u001b[39m,\u001b[38;5;241m10\u001b[39m)\n",
      "\u001b[0;31mNameError\u001b[0m: name 'random' is not defined"
     ]
    }
   ],
   "source": [
    "random.randrange(1,10)"
   ]
  },
  {
   "cell_type": "code",
   "execution_count": 24,
   "id": "82845dc3",
   "metadata": {},
   "outputs": [
    {
     "data": {
      "text/plain": [
       "5"
      ]
     },
     "execution_count": 24,
     "metadata": {},
     "output_type": "execute_result"
    }
   ],
   "source": [
    "int(5.5)"
   ]
  },
  {
   "cell_type": "code",
   "execution_count": 25,
   "id": "ce202782",
   "metadata": {},
   "outputs": [
    {
     "name": "stdout",
     "output_type": "stream",
     "text": [
      "hello\r",
      "world\n"
     ]
    }
   ],
   "source": [
    "print(\"hello\\rworld\")"
   ]
  },
  {
   "cell_type": "code",
   "execution_count": 28,
   "id": "daf8f473",
   "metadata": {},
   "outputs": [
    {
     "data": {
      "text/plain": [
       "'           abc           '"
      ]
     },
     "execution_count": 28,
     "metadata": {},
     "output_type": "execute_result"
    }
   ],
   "source": [
    "'abc'.center(25)"
   ]
  },
  {
   "cell_type": "code",
   "execution_count": 36,
   "id": "a889f11a",
   "metadata": {},
   "outputs": [
    {
     "data": {
      "text/plain": [
       "True"
      ]
     },
     "execution_count": 36,
     "metadata": {},
     "output_type": "execute_result"
    }
   ],
   "source": [
    "(5>3) & (3>2)\n"
   ]
  },
  {
   "cell_type": "code",
   "execution_count": 40,
   "id": "29ca5b72",
   "metadata": {},
   "outputs": [
    {
     "name": "stdout",
     "output_type": "stream",
     "text": [
      "False\n"
     ]
    }
   ],
   "source": [
    "print(not True)"
   ]
  },
  {
   "cell_type": "code",
   "execution_count": 45,
   "id": "463b7f1a",
   "metadata": {},
   "outputs": [
    {
     "data": {
      "text/plain": [
       "False"
      ]
     },
     "execution_count": 45,
     "metadata": {},
     "output_type": "execute_result"
    }
   ],
   "source": [
    "x = 5\n",
    "y = 5.0\n",
    "x is y"
   ]
  },
  {
   "cell_type": "code",
   "execution_count": 77,
   "id": "42805e13",
   "metadata": {},
   "outputs": [],
   "source": [
    "x = 1\n"
   ]
  },
  {
   "cell_type": "code",
   "execution_count": 91,
   "id": "783e3ac9",
   "metadata": {},
   "outputs": [
    {
     "ename": "ValueError",
     "evalue": "list.remove(x): x not in list",
     "output_type": "error",
     "traceback": [
      "\u001b[0;31m---------------------------------------------------------------------------\u001b[0m",
      "\u001b[0;31mValueError\u001b[0m                                Traceback (most recent call last)",
      "Cell \u001b[0;32mIn[91], line 1\u001b[0m\n\u001b[0;32m----> 1\u001b[0m [\u001b[38;5;124m'\u001b[39m\u001b[38;5;124ma\u001b[39m\u001b[38;5;124m'\u001b[39m, \u001b[38;5;124m'\u001b[39m\u001b[38;5;124mb\u001b[39m\u001b[38;5;124m'\u001b[39m, \u001b[38;5;124m'\u001b[39m\u001b[38;5;124mc\u001b[39m\u001b[38;5;124m'\u001b[39m]\u001b[38;5;241m.\u001b[39mremove([\u001b[38;5;124m'\u001b[39m\u001b[38;5;124md\u001b[39m\u001b[38;5;124m'\u001b[39m])\n",
      "\u001b[0;31mValueError\u001b[0m: list.remove(x): x not in list"
     ]
    }
   ],
   "source": [
    "['a', 'b', 'c'].remove(['d'])"
   ]
  },
  {
   "cell_type": "code",
   "execution_count": 88,
   "id": "7e2ad620",
   "metadata": {},
   "outputs": [
    {
     "name": "stdout",
     "output_type": "stream",
     "text": [
      "128\n"
     ]
    }
   ],
   "source": [
    "x = x<<1\n",
    "print(x)"
   ]
  },
  {
   "cell_type": "code",
   "execution_count": 89,
   "id": "5beeac35",
   "metadata": {},
   "outputs": [
    {
     "name": "stdout",
     "output_type": "stream",
     "text": [
      "None\n"
     ]
    }
   ],
   "source": [
    "print(k)"
   ]
  },
  {
   "cell_type": "code",
   "execution_count": 15,
   "id": "bebddd3c",
   "metadata": {},
   "outputs": [
    {
     "data": {
      "text/plain": [
       "[3, 4, 5, 6]"
      ]
     },
     "execution_count": 15,
     "metadata": {},
     "output_type": "execute_result"
    }
   ],
   "source": [
    "a = [1,2,3,4,5,6]\n",
    "k = 4\n",
    "a.sort()\n",
    "a[-k:]"
   ]
  },
  {
   "cell_type": "code",
   "execution_count": 10,
   "id": "e1ea8e9d",
   "metadata": {},
   "outputs": [],
   "source": [
    "arr = [2,3,5,3]\n",
    "arr1 = arr.copy()\n",
    "arr.sort()\n",
    "asarr = arr.copy()\n",
    "arr.sort(reverse =  True)\n",
    "adarr = arr.copy()"
   ]
  },
  {
   "cell_type": "code",
   "execution_count": 11,
   "id": "37a7b1db",
   "metadata": {},
   "outputs": [
    {
     "name": "stdout",
     "output_type": "stream",
     "text": [
      "[2, 3, 5, 3]\n",
      "[2, 3, 3, 5]\n",
      "[5, 3, 3, 2]\n"
     ]
    }
   ],
   "source": [
    "print(arr1)\n",
    "print(asarr)\n",
    "print(adarr)"
   ]
  },
  {
   "cell_type": "code",
   "execution_count": 12,
   "id": "5dc36718",
   "metadata": {},
   "outputs": [
    {
     "data": {
      "text/plain": [
       "[1, 2]"
      ]
     },
     "execution_count": 12,
     "metadata": {},
     "output_type": "execute_result"
    }
   ],
   "source": [
    "a = [1,2,3]\n",
    "a[:-1]"
   ]
  },
  {
   "cell_type": "code",
   "execution_count": 16,
   "id": "3e495257",
   "metadata": {},
   "outputs": [
    {
     "ename": "IndexError",
     "evalue": "list index out of range",
     "output_type": "error",
     "traceback": [
      "\u001b[0;31m---------------------------------------------------------------------------\u001b[0m",
      "\u001b[0;31mIndexError\u001b[0m                                Traceback (most recent call last)",
      "Cell \u001b[0;32mIn[16], line 2\u001b[0m\n\u001b[1;32m      1\u001b[0m a \u001b[38;5;241m=\u001b[39m []\n\u001b[0;32m----> 2\u001b[0m a[\u001b[38;5;241m-\u001b[39m\u001b[38;5;241m1\u001b[39m]\n",
      "\u001b[0;31mIndexError\u001b[0m: list index out of range"
     ]
    }
   ],
   "source": [
    "a = []\n",
    "a[-1]"
   ]
  },
  {
   "cell_type": "code",
   "execution_count": 18,
   "id": "0bfb62fe",
   "metadata": {},
   "outputs": [
    {
     "data": {
      "text/plain": [
       "True"
      ]
     },
     "execution_count": 18,
     "metadata": {},
     "output_type": "execute_result"
    }
   ],
   "source": [
    "2.0 == 2"
   ]
  },
  {
   "cell_type": "code",
   "execution_count": 2,
   "id": "d55bdf8d-a7ac-4394-b8fa-a7495f65d057",
   "metadata": {},
   "outputs": [
    {
     "data": {
      "text/plain": [
       "{' ', 's', 'v'}"
      ]
     },
     "execution_count": 2,
     "metadata": {},
     "output_type": "execute_result"
    }
   ],
   "source": [
    "a = 's v'\n",
    "set(list(a))"
   ]
  },
  {
   "cell_type": "code",
   "execution_count": null,
   "id": "88521bed",
   "metadata": {},
   "outputs": [],
   "source": []
  },
  {
   "cell_type": "code",
   "execution_count": null,
   "id": "914e09f5",
   "metadata": {},
   "outputs": [],
   "source": []
  },
  {
   "cell_type": "code",
   "execution_count": null,
   "id": "b2056219",
   "metadata": {},
   "outputs": [],
   "source": []
  },
  {
   "cell_type": "code",
   "execution_count": null,
   "id": "a2872c87",
   "metadata": {},
   "outputs": [],
   "source": []
  },
  {
   "cell_type": "code",
   "execution_count": null,
   "id": "3aecd788",
   "metadata": {},
   "outputs": [],
   "source": []
  },
  {
   "cell_type": "code",
   "execution_count": null,
   "id": "2ee54fb7",
   "metadata": {},
   "outputs": [],
   "source": []
  },
  {
   "cell_type": "code",
   "execution_count": null,
   "id": "7da2537e",
   "metadata": {},
   "outputs": [],
   "source": []
  },
  {
   "cell_type": "code",
   "execution_count": null,
   "id": "039ac34e",
   "metadata": {},
   "outputs": [],
   "source": []
  }
 ],
 "metadata": {
  "kernelspec": {
   "display_name": "Python [conda env:base] *",
   "language": "python",
   "name": "conda-base-py"
  },
  "language_info": {
   "codemirror_mode": {
    "name": "ipython",
    "version": 3
   },
   "file_extension": ".py",
   "mimetype": "text/x-python",
   "name": "python",
   "nbconvert_exporter": "python",
   "pygments_lexer": "ipython3",
   "version": "3.13.5"
  }
 },
 "nbformat": 4,
 "nbformat_minor": 5
}
