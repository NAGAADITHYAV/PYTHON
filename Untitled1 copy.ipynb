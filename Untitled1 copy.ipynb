{
 "cells": [
  {
   "cell_type": "code",
   "execution_count": 14,
   "id": "ee9b31d2",
   "metadata": {},
   "outputs": [],
   "source": [
    "def max_ones_with_forced_flips(A: str) -> int:\n",
    "    n = len(A)\n",
    "    \n",
    "    S = sum(1 for c in A if c == '1')\n",
    "    \n",
    "    if S == 0:\n",
    "        return n\n",
    "    \n",
    "    base = n - S  \n",
    "    \n",
    "    \n",
    "    D = []\n",
    "    for c in A:\n",
    "        if c == '1':\n",
    "            D.append(1)\n",
    "        else:\n",
    "            D.append(-1)\n",
    "    \n",
    "    if n < 3:\n",
    "        return base\n",
    "    \n",
    "    \n",
    "    max_sub_sum = float('-inf')\n",
    "    current_sum = 0\n",
    "    \n",
    "    for k in range(1, n-1):\n",
    "        current_sum = max(D[k], current_sum + D[k])\n",
    "        max_sub_sum = max(max_sub_sum, current_sum)\n",
    "    \n",
    "    return base + max_sub_sum"
   ]
  },
  {
   "cell_type": "code",
   "execution_count": 15,
   "id": "6b18ee81",
   "metadata": {},
   "outputs": [
    {
     "data": {
      "text/plain": [
       "5"
      ]
     },
     "execution_count": 15,
     "metadata": {},
     "output_type": "execute_result"
    }
   ],
   "source": [
    "max_ones_with_forced_flips('00000')"
   ]
  },
  {
   "cell_type": "code",
   "execution_count": 16,
   "id": "0428fe19",
   "metadata": {},
   "outputs": [
    {
     "data": {
      "text/plain": [
       "3"
      ]
     },
     "execution_count": 16,
     "metadata": {},
     "output_type": "execute_result"
    }
   ],
   "source": [
    "max_ones_with_forced_flips('11111')"
   ]
  },
  {
   "cell_type": "code",
   "execution_count": 17,
   "id": "cfee7734",
   "metadata": {},
   "outputs": [
    {
     "data": {
      "text/plain": [
       "300000"
      ]
     },
     "execution_count": 17,
     "metadata": {},
     "output_type": "execute_result"
    }
   ],
   "source": [
    "s = '0'*300000\n",
    "max_ones_with_forced_flips(s)"
   ]
  },
  {
   "cell_type": "code",
   "execution_count": 18,
   "id": "5968f9f0",
   "metadata": {},
   "outputs": [
    {
     "data": {
      "text/plain": [
       "5"
      ]
     },
     "execution_count": 18,
     "metadata": {},
     "output_type": "execute_result"
    }
   ],
   "source": [
    "max_ones_with_forced_flips('0100101')"
   ]
  },
  {
   "cell_type": "code",
   "execution_count": 19,
   "id": "8ab8ad46",
   "metadata": {},
   "outputs": [
    {
     "data": {
      "text/plain": [
       "6"
      ]
     },
     "execution_count": 19,
     "metadata": {},
     "output_type": "execute_result"
    }
   ],
   "source": [
    "max_ones_with_forced_flips('10000011')"
   ]
  },
  {
   "cell_type": "code",
   "execution_count": null,
   "id": "42e89194",
   "metadata": {},
   "outputs": [],
   "source": []
  },
  {
   "cell_type": "code",
   "execution_count": 129,
   "id": "26484e8b",
   "metadata": {},
   "outputs": [],
   "source": [
    "class Solution:\n",
    "    def __init__(self):\n",
    "        self.heap = []\n",
    "\n",
    "    def insertIntoHeap(self, num):\n",
    "        self.heap.append(num)\n",
    "        self.bubbleUp()\n",
    "\n",
    "    def bubbleUp(self):\n",
    "        node = len(self.heap)-1\n",
    "        while(node != 0):\n",
    "            parent = (node-1)//2\n",
    "            if self.heap[parent] > self.heap[node]:\n",
    "                self.heap[parent], self.heap[node] = self.heap[node], self.heap[parent]\n",
    "                node = parent\n",
    "            else:\n",
    "                break\n",
    "  \n",
    "    def swapFirstlast(self):\n",
    "        n = len(self.heap)-1\n",
    "        self.heap[0], self.heap[n] = self.heap[n], self.heap[0]\n",
    "\n",
    "    def removeFromHeap(self):\n",
    "        print(\"original\", self.heap)\n",
    "        self.swapFirstlast()\n",
    "        print(\"swapped\", self.heap)\n",
    "        returnValue = self.heap.pop()\n",
    "        print(\"poped\", self.heap)\n",
    "        self.bubbleDown()\n",
    "        print(\"bubbleddown\", self.heap)\n",
    "        return returnValue\n",
    "\n",
    "    def bubbleDown(self):\n",
    "        node = 0\n",
    "        length = len(self.heap)\n",
    "        while node < length:\n",
    "            leftChild = (2*node) +1\n",
    "            rightChild = (2*node) +2\n",
    "            smallest = node\n",
    "            \n",
    "            if leftChild < length and self.heap[leftChild] < self.heap[smallest]:\n",
    "                smallest = leftChild\n",
    "            if rightChild < length and self.heap[rightChild] < self.heap[smallest]:\n",
    "                smallest = rightChild\n",
    "            if smallest != node:\n",
    "                self.heap[smallest], self.heap[node] = self.heap[node], self.heap[smallest]\n",
    "                node = smallest\n",
    "            else:\n",
    "                break\n",
    "\n",
    "    def minOperations(self, nums, k):\n",
    "        for x in nums:\n",
    "            self.insertIntoHeap(x)\n",
    "        c = 0\n",
    "        while(self.heap[0]<k):\n",
    "            x = self.removeFromHeap()\n",
    "            y = self.removeFromHeap()\n",
    "            self.insertIntoHeap((x*2)+y)\n",
    "            c += 1\n",
    "            print('counted')\n",
    "        return c"
   ]
  },
  {
   "cell_type": "code",
   "execution_count": 130,
   "id": "763cc75b",
   "metadata": {},
   "outputs": [],
   "source": [
    "s = Solution()"
   ]
  },
  {
   "cell_type": "code",
   "execution_count": 131,
   "id": "3b3d185a",
   "metadata": {},
   "outputs": [],
   "source": [
    "nums = [5,72,87,20,23,75,52,8,87,5]"
   ]
  },
  {
   "cell_type": "code",
   "execution_count": 132,
   "id": "dec42baf",
   "metadata": {},
   "outputs": [],
   "source": [
    "k = 88"
   ]
  },
  {
   "cell_type": "code",
   "execution_count": 133,
   "id": "491427c1",
   "metadata": {},
   "outputs": [
    {
     "name": "stdout",
     "output_type": "stream",
     "text": [
      "original [5, 5, 52, 20, 8, 87, 75, 72, 87, 23]\n",
      "swapped [23, 5, 52, 20, 8, 87, 75, 72, 87, 5]\n",
      "poped [23, 5, 52, 20, 8, 87, 75, 72, 87]\n",
      "bubbleddown [5, 8, 52, 20, 23, 87, 75, 72, 87]\n",
      "original [5, 8, 52, 20, 23, 87, 75, 72, 87]\n",
      "swapped [87, 8, 52, 20, 23, 87, 75, 72, 5]\n",
      "poped [87, 8, 52, 20, 23, 87, 75, 72]\n",
      "bubbleddown [8, 20, 52, 72, 23, 87, 75, 87]\n",
      "counted\n",
      "original [8, 15, 52, 20, 23, 87, 75, 87, 72]\n",
      "swapped [72, 15, 52, 20, 23, 87, 75, 87, 8]\n",
      "poped [72, 15, 52, 20, 23, 87, 75, 87]\n",
      "bubbleddown [15, 20, 52, 72, 23, 87, 75, 87]\n",
      "original [15, 20, 52, 72, 23, 87, 75, 87]\n",
      "swapped [87, 20, 52, 72, 23, 87, 75, 15]\n",
      "poped [87, 20, 52, 72, 23, 87, 75]\n",
      "bubbleddown [20, 23, 52, 72, 87, 87, 75]\n",
      "counted\n",
      "original [20, 23, 52, 31, 87, 87, 75, 72]\n",
      "swapped [72, 23, 52, 31, 87, 87, 75, 20]\n",
      "poped [72, 23, 52, 31, 87, 87, 75]\n",
      "bubbleddown [23, 31, 52, 72, 87, 87, 75]\n",
      "original [23, 31, 52, 72, 87, 87, 75]\n",
      "swapped [75, 31, 52, 72, 87, 87, 23]\n",
      "poped [75, 31, 52, 72, 87, 87]\n",
      "bubbleddown [31, 72, 52, 75, 87, 87]\n",
      "counted\n",
      "original [31, 72, 52, 75, 87, 87, 63]\n",
      "swapped [63, 72, 52, 75, 87, 87, 31]\n",
      "poped [63, 72, 52, 75, 87, 87]\n",
      "bubbleddown [52, 72, 63, 75, 87, 87]\n",
      "original [52, 72, 63, 75, 87, 87]\n",
      "swapped [87, 72, 63, 75, 87, 52]\n",
      "poped [87, 72, 63, 75, 87]\n",
      "bubbleddown [63, 72, 87, 75, 87]\n",
      "counted\n",
      "original [63, 72, 87, 75, 87, 114]\n",
      "swapped [114, 72, 87, 75, 87, 63]\n",
      "poped [114, 72, 87, 75, 87]\n",
      "bubbleddown [72, 75, 87, 114, 87]\n",
      "original [72, 75, 87, 114, 87]\n",
      "swapped [87, 75, 87, 114, 72]\n",
      "poped [87, 75, 87, 114]\n",
      "bubbleddown [75, 87, 87, 114]\n",
      "counted\n",
      "original [75, 87, 87, 114, 198]\n",
      "swapped [198, 87, 87, 114, 75]\n",
      "poped [198, 87, 87, 114]\n",
      "bubbleddown [87, 114, 87, 198]\n",
      "original [87, 114, 87, 198]\n",
      "swapped [198, 114, 87, 87]\n",
      "poped [198, 114, 87]\n",
      "bubbleddown [87, 114, 198]\n",
      "counted\n",
      "original [87, 114, 198, 237]\n",
      "swapped [237, 114, 198, 87]\n",
      "poped [237, 114, 198]\n",
      "bubbleddown [114, 237, 198]\n",
      "original [114, 237, 198]\n",
      "swapped [198, 237, 114]\n",
      "poped [198, 237]\n",
      "bubbleddown [198, 237]\n",
      "counted\n"
     ]
    },
    {
     "data": {
      "text/plain": [
       "7"
      ]
     },
     "execution_count": 133,
     "metadata": {},
     "output_type": "execute_result"
    }
   ],
   "source": [
    "s.minOperations(nums,k)"
   ]
  },
  {
   "cell_type": "code",
   "execution_count": null,
   "id": "814aa257",
   "metadata": {},
   "outputs": [],
   "source": []
  },
  {
   "cell_type": "code",
   "execution_count": null,
   "id": "2f6b903a",
   "metadata": {},
   "outputs": [],
   "source": []
  },
  {
   "cell_type": "code",
   "execution_count": null,
   "id": "9868d546",
   "metadata": {},
   "outputs": [],
   "source": []
  }
 ],
 "metadata": {
  "kernelspec": {
   "display_name": "Python 3 (ipykernel)",
   "language": "python",
   "name": "python3"
  },
  "language_info": {
   "codemirror_mode": {
    "name": "ipython",
    "version": 3
   },
   "file_extension": ".py",
   "mimetype": "text/x-python",
   "name": "python",
   "nbconvert_exporter": "python",
   "pygments_lexer": "ipython3",
   "version": "3.11.5"
  }
 },
 "nbformat": 4,
 "nbformat_minor": 5
}
