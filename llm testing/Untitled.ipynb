{
 "cells": [
  {
   "cell_type": "code",
   "execution_count": 1,
   "id": "b1f9e9a8",
   "metadata": {},
   "outputs": [
    {
     "name": "stderr",
     "output_type": "stream",
     "text": [
      "python(60167) MallocStackLogging: can't turn off malloc stack logging because it was not enabled.\n"
     ]
    },
    {
     "name": "stdout",
     "output_type": "stream",
     "text": [
      "Collecting langchain-community\n",
      "  Obtaining dependency information for langchain-community from https://files.pythonhosted.org/packages/d2/27/9c310c60c572b69a8eeb27f828b0df097834062862f541128b02b87df8f0/langchain_community-0.2.5-py3-none-any.whl.metadata\n",
      "  Downloading langchain_community-0.2.5-py3-none-any.whl.metadata (2.5 kB)\n",
      "Requirement already satisfied: PyYAML>=5.3 in /Users/nagaadithya/anaconda3/lib/python3.11/site-packages (from langchain-community) (6.0)\n",
      "Requirement already satisfied: SQLAlchemy<3,>=1.4 in /Users/nagaadithya/anaconda3/lib/python3.11/site-packages (from langchain-community) (1.4.39)\n",
      "Requirement already satisfied: aiohttp<4.0.0,>=3.8.3 in /Users/nagaadithya/anaconda3/lib/python3.11/site-packages (from langchain-community) (3.8.5)\n",
      "Collecting dataclasses-json<0.7,>=0.5.7 (from langchain-community)\n",
      "  Obtaining dependency information for dataclasses-json<0.7,>=0.5.7 from https://files.pythonhosted.org/packages/c3/be/d0d44e092656fe7a06b55e6103cbce807cdbdee17884a5367c68c9860853/dataclasses_json-0.6.7-py3-none-any.whl.metadata\n",
      "  Downloading dataclasses_json-0.6.7-py3-none-any.whl.metadata (25 kB)\n",
      "Collecting langchain<0.3.0,>=0.2.5 (from langchain-community)\n",
      "  Obtaining dependency information for langchain<0.3.0,>=0.2.5 from https://files.pythonhosted.org/packages/4c/e3/38d4c5969d91e8e4f2ada469d82322d8b9f5d218613c4a18c11be2bda648/langchain-0.2.5-py3-none-any.whl.metadata\n",
      "  Downloading langchain-0.2.5-py3-none-any.whl.metadata (7.0 kB)\n",
      "Collecting langchain-core<0.3.0,>=0.2.7 (from langchain-community)\n",
      "  Obtaining dependency information for langchain-core<0.3.0,>=0.2.7 from https://files.pythonhosted.org/packages/98/5d/e69571aca7876484f29d17349072761837e8d597e5cbe61623748ff81696/langchain_core-0.2.9-py3-none-any.whl.metadata\n",
      "  Downloading langchain_core-0.2.9-py3-none-any.whl.metadata (6.0 kB)\n",
      "Collecting langsmith<0.2.0,>=0.1.0 (from langchain-community)\n",
      "  Obtaining dependency information for langsmith<0.2.0,>=0.1.0 from https://files.pythonhosted.org/packages/2b/ab/0ea685c54c448e5c7dbdab674c76c36af982859a7011a1b98d67e7d5ab20/langsmith-0.1.81-py3-none-any.whl.metadata\n",
      "  Downloading langsmith-0.1.81-py3-none-any.whl.metadata (13 kB)\n",
      "Requirement already satisfied: numpy<2,>=1 in /Users/nagaadithya/anaconda3/lib/python3.11/site-packages (from langchain-community) (1.24.3)\n",
      "Requirement already satisfied: requests<3,>=2 in /Users/nagaadithya/anaconda3/lib/python3.11/site-packages (from langchain-community) (2.31.0)\n",
      "Requirement already satisfied: tenacity<9.0.0,>=8.1.0 in /Users/nagaadithya/anaconda3/lib/python3.11/site-packages (from langchain-community) (8.2.2)\n",
      "Requirement already satisfied: attrs>=17.3.0 in /Users/nagaadithya/anaconda3/lib/python3.11/site-packages (from aiohttp<4.0.0,>=3.8.3->langchain-community) (22.1.0)\n",
      "Requirement already satisfied: charset-normalizer<4.0,>=2.0 in /Users/nagaadithya/anaconda3/lib/python3.11/site-packages (from aiohttp<4.0.0,>=3.8.3->langchain-community) (2.0.4)\n",
      "Requirement already satisfied: multidict<7.0,>=4.5 in /Users/nagaadithya/anaconda3/lib/python3.11/site-packages (from aiohttp<4.0.0,>=3.8.3->langchain-community) (6.0.2)\n",
      "Requirement already satisfied: async-timeout<5.0,>=4.0.0a3 in /Users/nagaadithya/anaconda3/lib/python3.11/site-packages (from aiohttp<4.0.0,>=3.8.3->langchain-community) (4.0.2)\n",
      "Requirement already satisfied: yarl<2.0,>=1.0 in /Users/nagaadithya/anaconda3/lib/python3.11/site-packages (from aiohttp<4.0.0,>=3.8.3->langchain-community) (1.8.1)\n",
      "Requirement already satisfied: frozenlist>=1.1.1 in /Users/nagaadithya/anaconda3/lib/python3.11/site-packages (from aiohttp<4.0.0,>=3.8.3->langchain-community) (1.3.3)\n",
      "Requirement already satisfied: aiosignal>=1.1.2 in /Users/nagaadithya/anaconda3/lib/python3.11/site-packages (from aiohttp<4.0.0,>=3.8.3->langchain-community) (1.2.0)\n",
      "Collecting marshmallow<4.0.0,>=3.18.0 (from dataclasses-json<0.7,>=0.5.7->langchain-community)\n",
      "  Obtaining dependency information for marshmallow<4.0.0,>=3.18.0 from https://files.pythonhosted.org/packages/96/d7/f318261e6ccbba86bdf626e07cd850981508fdaec52cfcdc4ac1030327ab/marshmallow-3.21.3-py3-none-any.whl.metadata\n",
      "  Downloading marshmallow-3.21.3-py3-none-any.whl.metadata (7.1 kB)\n",
      "Collecting typing-inspect<1,>=0.4.0 (from dataclasses-json<0.7,>=0.5.7->langchain-community)\n",
      "  Obtaining dependency information for typing-inspect<1,>=0.4.0 from https://files.pythonhosted.org/packages/65/f3/107a22063bf27bdccf2024833d3445f4eea42b2e598abfbd46f6a63b6cb0/typing_inspect-0.9.0-py3-none-any.whl.metadata\n",
      "  Downloading typing_inspect-0.9.0-py3-none-any.whl.metadata (1.5 kB)\n",
      "Collecting langchain-text-splitters<0.3.0,>=0.2.0 (from langchain<0.3.0,>=0.2.5->langchain-community)\n",
      "  Obtaining dependency information for langchain-text-splitters<0.3.0,>=0.2.0 from https://files.pythonhosted.org/packages/a9/d9/31b1b5415be5201ec1ba34ab04f47a92c69174d7817d70b51693fb60e780/langchain_text_splitters-0.2.1-py3-none-any.whl.metadata\n",
      "  Downloading langchain_text_splitters-0.2.1-py3-none-any.whl.metadata (2.2 kB)\n",
      "Requirement already satisfied: pydantic<3,>=1 in /Users/nagaadithya/anaconda3/lib/python3.11/site-packages (from langchain<0.3.0,>=0.2.5->langchain-community) (1.10.8)\n",
      "Collecting jsonpatch<2.0,>=1.33 (from langchain-core<0.3.0,>=0.2.7->langchain-community)\n",
      "  Obtaining dependency information for jsonpatch<2.0,>=1.33 from https://files.pythonhosted.org/packages/73/07/02e16ed01e04a374e644b575638ec7987ae846d25ad97bcc9945a3ee4b0e/jsonpatch-1.33-py2.py3-none-any.whl.metadata\n",
      "  Downloading jsonpatch-1.33-py2.py3-none-any.whl.metadata (3.0 kB)\n",
      "Collecting packaging<25,>=23.2 (from langchain-core<0.3.0,>=0.2.7->langchain-community)\n",
      "  Obtaining dependency information for packaging<25,>=23.2 from https://files.pythonhosted.org/packages/08/aa/cc0199a5f0ad350994d660967a8efb233fe0416e4639146c089643407ce6/packaging-24.1-py3-none-any.whl.metadata\n",
      "  Downloading packaging-24.1-py3-none-any.whl.metadata (3.2 kB)\n",
      "Collecting orjson<4.0.0,>=3.9.14 (from langsmith<0.2.0,>=0.1.0->langchain-community)\n",
      "  Obtaining dependency information for orjson<4.0.0,>=3.9.14 from https://files.pythonhosted.org/packages/5b/0d/96079bcd0d7f6cda1719c1cbb07bb136049123f46b70be085610f625f6cd/orjson-3.10.5-cp311-cp311-macosx_10_15_x86_64.macosx_11_0_arm64.macosx_10_15_universal2.whl.metadata\n",
      "  Downloading orjson-3.10.5-cp311-cp311-macosx_10_15_x86_64.macosx_11_0_arm64.macosx_10_15_universal2.whl.metadata (49 kB)\n",
      "\u001b[2K     \u001b[90m━━━━━━━━━━━━━━━━━━━━━━━━━━━━━━━━━━━━━━━━\u001b[0m \u001b[32m49.7/49.7 kB\u001b[0m \u001b[31m3.2 MB/s\u001b[0m eta \u001b[36m0:00:00\u001b[0m\n",
      "\u001b[?25hRequirement already satisfied: idna<4,>=2.5 in /Users/nagaadithya/anaconda3/lib/python3.11/site-packages (from requests<3,>=2->langchain-community) (3.4)\n",
      "Requirement already satisfied: urllib3<3,>=1.21.1 in /Users/nagaadithya/anaconda3/lib/python3.11/site-packages (from requests<3,>=2->langchain-community) (1.26.16)\n",
      "Requirement already satisfied: certifi>=2017.4.17 in /Users/nagaadithya/anaconda3/lib/python3.11/site-packages (from requests<3,>=2->langchain-community) (2024.2.2)\n",
      "Requirement already satisfied: jsonpointer>=1.9 in /Users/nagaadithya/anaconda3/lib/python3.11/site-packages (from jsonpatch<2.0,>=1.33->langchain-core<0.3.0,>=0.2.7->langchain-community) (2.1)\n",
      "Requirement already satisfied: typing-extensions>=4.2.0 in /Users/nagaadithya/anaconda3/lib/python3.11/site-packages (from pydantic<3,>=1->langchain<0.3.0,>=0.2.5->langchain-community) (4.9.0)\n",
      "Requirement already satisfied: mypy-extensions>=0.3.0 in /Users/nagaadithya/anaconda3/lib/python3.11/site-packages (from typing-inspect<1,>=0.4.0->dataclasses-json<0.7,>=0.5.7->langchain-community) (1.0.0)\n",
      "Downloading langchain_community-0.2.5-py3-none-any.whl (2.2 MB)\n",
      "\u001b[2K   \u001b[90m━━━━━━━━━━━━━━━━━━━━━━━━━━━━━━━━━━━━━━━━\u001b[0m \u001b[32m2.2/2.2 MB\u001b[0m \u001b[31m18.5 MB/s\u001b[0m eta \u001b[36m0:00:00\u001b[0ma \u001b[36m0:00:01\u001b[0m\n",
      "\u001b[?25hDownloading dataclasses_json-0.6.7-py3-none-any.whl (28 kB)\n",
      "Downloading langchain-0.2.5-py3-none-any.whl (974 kB)\n",
      "\u001b[2K   \u001b[90m━━━━━━━━━━━━━━━━━━━━━━━━━━━━━━━━━━━━━━━━\u001b[0m \u001b[32m974.6/974.6 kB\u001b[0m \u001b[31m18.6 MB/s\u001b[0m eta \u001b[36m0:00:00\u001b[0ma \u001b[36m0:00:01\u001b[0m\n",
      "\u001b[?25hDownloading langchain_core-0.2.9-py3-none-any.whl (321 kB)\n",
      "\u001b[2K   \u001b[90m━━━━━━━━━━━━━━━━━━━━━━━━━━━━━━━━━━━━━━━━\u001b[0m \u001b[32m321.8/321.8 kB\u001b[0m \u001b[31m17.4 MB/s\u001b[0m eta \u001b[36m0:00:00\u001b[0m\n",
      "\u001b[?25hDownloading langsmith-0.1.81-py3-none-any.whl (127 kB)\n"
     ]
    },
    {
     "name": "stdout",
     "output_type": "stream",
     "text": [
      "\u001b[2K   \u001b[90m━━━━━━━━━━━━━━━━━━━━━━━━━━━━━━━━━━━━━━━━\u001b[0m \u001b[32m127.1/127.1 kB\u001b[0m \u001b[31m8.7 MB/s\u001b[0m eta \u001b[36m0:00:00\u001b[0m\n",
      "\u001b[?25hDownloading jsonpatch-1.33-py2.py3-none-any.whl (12 kB)\n",
      "Downloading langchain_text_splitters-0.2.1-py3-none-any.whl (23 kB)\n",
      "Downloading marshmallow-3.21.3-py3-none-any.whl (49 kB)\n",
      "\u001b[2K   \u001b[90m━━━━━━━━━━━━━━━━━━━━━━━━━━━━━━━━━━━━━━━━\u001b[0m \u001b[32m49.2/49.2 kB\u001b[0m \u001b[31m4.7 MB/s\u001b[0m eta \u001b[36m0:00:00\u001b[0m\n",
      "\u001b[?25hDownloading orjson-3.10.5-cp311-cp311-macosx_10_15_x86_64.macosx_11_0_arm64.macosx_10_15_universal2.whl (258 kB)\n",
      "\u001b[2K   \u001b[90m━━━━━━━━━━━━━━━━━━━━━━━━━━━━━━━━━━━━━━━━\u001b[0m \u001b[32m258.7/258.7 kB\u001b[0m \u001b[31m14.9 MB/s\u001b[0m eta \u001b[36m0:00:00\u001b[0m\n",
      "\u001b[?25hDownloading packaging-24.1-py3-none-any.whl (53 kB)\n",
      "\u001b[2K   \u001b[90m━━━━━━━━━━━━━━━━━━━━━━━━━━━━━━━━━━━━━━━━\u001b[0m \u001b[32m54.0/54.0 kB\u001b[0m \u001b[31m5.9 MB/s\u001b[0m eta \u001b[36m0:00:00\u001b[0m\n",
      "\u001b[?25hDownloading typing_inspect-0.9.0-py3-none-any.whl (8.8 kB)\n",
      "Installing collected packages: typing-inspect, packaging, orjson, jsonpatch, marshmallow, langsmith, langchain-core, dataclasses-json, langchain-text-splitters, langchain, langchain-community\n",
      "  Attempting uninstall: packaging\n",
      "    Found existing installation: packaging 23.1\n",
      "    Uninstalling packaging-23.1:\n",
      "      Successfully uninstalled packaging-23.1\n",
      "  Attempting uninstall: jsonpatch\n",
      "    Found existing installation: jsonpatch 1.32\n",
      "    Uninstalling jsonpatch-1.32:\n",
      "      Successfully uninstalled jsonpatch-1.32\n",
      "\u001b[31mERROR: pip's dependency resolver does not currently take into account all the packages that are installed. This behaviour is the source of the following dependency conflicts.\n",
      "tables 3.8.0 requires blosc2~=2.0.0, which is not installed.\n",
      "tables 3.8.0 requires cython>=0.29.21, which is not installed.\n",
      "spyder 5.4.3 requires pyqt5<5.16, which is not installed.\n",
      "spyder 5.4.3 requires pyqtwebengine<5.16, which is not installed.\n",
      "python-lsp-black 1.2.1 requires black>=22.3.0, but you have black 0.0 which is incompatible.\u001b[0m\u001b[31m\n",
      "\u001b[0mSuccessfully installed dataclasses-json-0.6.7 jsonpatch-1.33 langchain-0.2.5 langchain-community-0.2.5 langchain-core-0.2.9 langchain-text-splitters-0.2.1 langsmith-0.1.81 marshmallow-3.21.3 orjson-3.10.5 packaging-24.1 typing-inspect-0.9.0\n"
     ]
    }
   ],
   "source": [
    "!pip install langchain-community"
   ]
  },
  {
   "cell_type": "code",
   "execution_count": 9,
   "id": "e3286e0f",
   "metadata": {},
   "outputs": [
    {
     "name": "stdout",
     "output_type": "stream",
     "text": [
      "\n",
      "Determining the \"best\" movie ever made is a subjective matter that can vary from person to person. Different people have different tastes, preferences, and cultural backgrounds, which can influence their opinions on what makes a movie great. However, here are some of the most highly acclaimed movies of all time:\n",
      "\n",
      "1. The Godfather (1972) - a crime drama directed by Francis Ford Coppola, widely regarded as one of the greatest films ever made.\n",
      "2. The Shawshank Redemption (1994) - a drama film directed by Frank Darabont, with a 91% approval rating on Rotten Tomatoes, considered one of the most popular and influential movies of all time.\n",
      "3. The Dark Knight (2008) - a superhero thriller directed by Christopher Nolan, which set a new standard for comic book movies and has an 87% approval rating on Rotten Tomatoes.\n",
      "4. 12 Angry Men (1957) - a drama film directed by Sidney Lumet, about a jury deliberating the fate of a young man accused of murder, which is widely considered one of the greatest movies ever made.\n",
      "5. Schindler's List (1993) - a historical drama film directed by Steven Spielberg, based on the true story of Oskar Schindler, a German businessman who saved the lives of thousands of Jews during the Holocaust, with a 97% approval rating on Rotten Tomatoes.\n",
      "6. The Lord of the Rings: The Fellowship of the Ring (2001) - a fantasy adventure film directed by Peter Jackson, based on the novel by J.R.R. Tolkien, which has an 87% approval rating on Rotten Tomatoes and is widely considered one of the greatest movies of all time.\n",
      "7. Pulp Fiction (1994) - a crime film written and directed by Quentin Tarantino, known for its non-linear storytelling and memorable characters, with an 88% approval rating on Rotten Tomatoes.\n",
      "8. Citizen Kane (1941) - a drama film directed by Orson Welles, widely regarded as one of the greatest films ever made, with a 97% approval rating on Rotten Tomatoes.\n",
      "9. Vertigo (1958) - a psychological thriller film directed by Alfred Hitchcock, known for its use of suspense and its influence on the film industry, with an 89% approval rating on Rotten Tomatoes.\n",
      "10. Casablanca (1942) - a romantic drama film directed by Michael Curtiz, set during World War II, with memorable characters and dialogue, with a 97% approval rating on Rotten Tomatoes.\n",
      "\n",
      "Of course, there are many other great movies out there, but these are some of the most highly acclaimed and widely regarded as classics. Ultimately, the \"best\" movie is the one that resonates with you personally, so feel free to share your own favorites!\n"
     ]
    }
   ],
   "source": [
    "from langchain_community.llms import Ollama\n",
    "\n",
    "llama2 = Ollama(model=\"llama2\")\n",
    "\n",
    "prompt='what is the best movie ever made'\n",
    "\n",
    "\n",
    "response = llama2.invoke(prompt)\n",
    "print(response)"
   ]
  },
  {
   "cell_type": "code",
   "execution_count": 10,
   "id": "aac541c5",
   "metadata": {},
   "outputs": [
    {
     "name": "stdout",
     "output_type": "stream",
     "text": [
      "\n",
      "I apologize for the oversight. Christopher Nolan's \"Prestige\" (2006) is indeed a highly regarded and influential film in the prestige drama genre. Here's why it should be included in the list:\n",
      "\n",
      "1. Complex characters: The film features a cast of complex and intriguing characters, including two rival magicians who engage in a bitter feud that spans decades.\n",
      "2. Moral ambiguity: The story explores the gray areas between good and evil, as the protagonists are forced to confront their own moral failings and the consequences of their actions.\n",
      "3. Themes of obsession and madness: The film delves into the darker aspects of human nature, such as obsession and madness, as the characters become increasingly consumed by their rivalry and their desire for power.\n",
      "4. Visually stunning: \"Prestige\" features impressive visuals, including elaborate magic tricks and a haunting score that add to the film's overall atmosphere of mystery and suspense.\n",
      "5. Cult following: The film has gained a cult following over the years, with many fans praising its complex storytelling, memorable characters, and thought-provoking themes.\n",
      "\n",
      "In conclusion, \"Prestige\" is a masterful work of prestige drama that checks all the boxes for inclusion in this list. Its exploration of complex characters, moral ambiguity, obsession, and madness make it a standout film in the genre, and its visual and musical elements only add to its impact.\n"
     ]
    }
   ],
   "source": [
    "prompt=\"why nolan's prestiage is not on the list\"\n",
    "\n",
    "\n",
    "response = llama2.invoke(prompt)\n",
    "print(response)"
   ]
  },
  {
   "cell_type": "code",
   "execution_count": 7,
   "id": "e4b2de57",
   "metadata": {
    "scrolled": true
   },
   "outputs": [
    {
     "name": "stdout",
     "output_type": "stream",
     "text": [
      "Sure! Can you please provide more information about the email you would like me to write? Here are some questions to help me get started:\n",
      "\n",
      "* To whom is the email addressed?\n",
      "* What is the main purpose of the email? (e.g. making a request, providing information, etc.)\n",
      "* Are there any specific details or topics you would like me to include in the email?\n",
      "* Is there a particular tone or style you would like me to use in the email? (e.g. formal, friendly, persuasive, etc.)\n",
      "\n",
      "Once I have this information, I can start writing the email for you!\n",
      "###\n",
      "Sure, here's a simple email template you can use as a starting point:\n",
      "\n",
      "Subject: [Insert Subject Here]\n",
      "\n",
      "Dear [Recipient's Name],\n",
      "\n",
      "I hope this email finds you well. I am writing to inform you of [insert reason for email here]. I wanted to keep you updated on [insert pertinent information here].\n",
      "\n",
      "Please let me know if you have any questions or concerns. I can be reached at [insert your contact information here].\n",
      "\n",
      "Best regards,\n",
      "[Your Name]\n"
     ]
    }
   ],
   "source": [
    "def playwithtemp(prompt, temp):\n",
    "    llama2 = Ollama(\n",
    "                  model='llama2',\n",
    "                  temperature=temp\n",
    "                )\n",
    "    response = llama2.invoke(prompt)\n",
    "    print(response)\n",
    "\n",
    "prompt = 'write an email'\n",
    "playwithtemp(prompt,0.8)\n",
    "print('###')\n",
    "playwithtemp(prompt,1)"
   ]
  },
  {
   "cell_type": "code",
   "execution_count": 8,
   "id": "3a8e4964",
   "metadata": {},
   "outputs": [
    {
     "name": "stdout",
     "output_type": "stream",
     "text": [
      "Sure, I'd be happy to help you write an email! Can you please provide me with more details about the email you want to send? Here are some questions to consider:\n",
      "\n",
      "* Who is the email addressed to?\n",
      "* What is the purpose of the email? (e.g. requesting information, making a suggestion, etc.)\n",
      "* What is the main message or topic you want to convey in the email?\n",
      "* Do you have any specific requirements or guidelines for the email (e.g. tone, format, etc.)?\n",
      "\n",
      "Once I have more information, I can help you write a clear and effective email!\n",
      "###\n",
      "Sure, I'd be happy to help you write an email! Can you please provide me with some details about the email you want to send? Here are some questions to get started:\n",
      "\n",
      "1. Who is the email addressed to?\n",
      "2. What is the purpose of the email? (e.g. making a request, providing information, etc.)\n",
      "3. Do you have any specific goals or objectives for the email?\n",
      "4. Are there any particular tone or style guidelines you want me to follow?\n",
      "5. Is there any important information or context I should be aware of as I write the email on your behalf?\n",
      "\n",
      "Once I have this information, I can begin crafting an email that meets your needs!\n"
     ]
    }
   ],
   "source": [
    "def playwithtemp(prompt, count):\n",
    "    llama2 = Ollama(\n",
    "                  model='llama2',\n",
    "                  num_predict=count\n",
    "                )\n",
    "    response = llama2.invoke(prompt)\n",
    "    print(response)\n",
    "\n",
    "prompt = 'write an email'\n",
    "playwithtemp(prompt,1024)\n",
    "print('###')\n",
    "playwithtemp(prompt,1054)"
   ]
  },
  {
   "cell_type": "code",
   "execution_count": null,
   "id": "dcba77f8",
   "metadata": {},
   "outputs": [],
   "source": []
  },
  {
   "cell_type": "code",
   "execution_count": null,
   "id": "5650a4ff",
   "metadata": {},
   "outputs": [],
   "source": []
  },
  {
   "cell_type": "code",
   "execution_count": null,
   "id": "892d135c",
   "metadata": {},
   "outputs": [],
   "source": []
  },
  {
   "cell_type": "code",
   "execution_count": null,
   "id": "84e78a34",
   "metadata": {},
   "outputs": [],
   "source": []
  },
  {
   "cell_type": "code",
   "execution_count": null,
   "id": "e7c28c76",
   "metadata": {},
   "outputs": [],
   "source": []
  },
  {
   "cell_type": "code",
   "execution_count": null,
   "id": "ebf5a04d",
   "metadata": {},
   "outputs": [],
   "source": []
  },
  {
   "cell_type": "code",
   "execution_count": null,
   "id": "af2d035d",
   "metadata": {},
   "outputs": [],
   "source": []
  },
  {
   "cell_type": "code",
   "execution_count": null,
   "id": "fca28621",
   "metadata": {},
   "outputs": [],
   "source": []
  },
  {
   "cell_type": "code",
   "execution_count": null,
   "id": "5374ac27",
   "metadata": {},
   "outputs": [],
   "source": []
  },
  {
   "cell_type": "code",
   "execution_count": null,
   "id": "befdbfb0",
   "metadata": {},
   "outputs": [],
   "source": []
  }
 ],
 "metadata": {
  "kernelspec": {
   "display_name": "Python 3 (ipykernel)",
   "language": "python",
   "name": "python3"
  },
  "language_info": {
   "codemirror_mode": {
    "name": "ipython",
    "version": 3
   },
   "file_extension": ".py",
   "mimetype": "text/x-python",
   "name": "python",
   "nbconvert_exporter": "python",
   "pygments_lexer": "ipython3",
   "version": "3.11.5"
  }
 },
 "nbformat": 4,
 "nbformat_minor": 5
}
