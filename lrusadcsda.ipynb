{
 "cells": [
  {
   "cell_type": "code",
   "execution_count": 18,
   "id": "234ffa8f",
   "metadata": {},
   "outputs": [],
   "source": [
    "class Node:\n",
    "    def __init__(self, key = 0, val = 0, next = None, prev = None):\n",
    "        self.key = key\n",
    "        self.val = val\n",
    "        self.next = next\n",
    "        self.prev = prev\n",
    "\n",
    "class LinkedList:\n",
    "    def __init__(self, head, tail):\n",
    "        self.head = head\n",
    "        self.tail = tail\n",
    "    \n",
    "    def insert(self, node):\n",
    "        self.tail.next = node\n",
    "        node.prev = self.tail\n",
    "        self.tail = self.tail.next\n",
    "    \n",
    "    def delete(self, node):\n",
    "        if node == self.tail:\n",
    "            self.tail = self.tail.prev\n",
    "        prevnode = node.prev\n",
    "        nextnode = node.next\n",
    "        prevnode.next = nextnode\n",
    "        if nextnode:\n",
    "            nextnode.prev = prevnode\n",
    "        return node\n",
    "    \n",
    "    def deleteHead(self):\n",
    "        return self.delete(self.head.next)\n",
    "    \n",
    "    def printlist(self):\n",
    "        parser  = self.head.next\n",
    "        while parser:\n",
    "            print(parser.val, parser.key)\n",
    "            parser = parser.next\n",
    "\n",
    "class LRUCache:\n",
    "\n",
    "    def __init__(self, capacity: int):\n",
    "        self.dict = {}\n",
    "        self.capacity = capacity\n",
    "        node = Node()\n",
    "        self.ll = LinkedList(node, node)\n",
    "\n",
    "    def get(self, key: int) -> int:\n",
    "        if key not in self.dict:\n",
    "            return -1\n",
    "        else:\n",
    "            node = self.dict[key]\n",
    "            self.ll.delete(node)\n",
    "            self.ll.insert(node)\n",
    "            return node.val\n",
    "\n",
    "    def put(self, key: int, value: int) -> None:\n",
    "        if key in self.dict:\n",
    "            node = self.dict[key]\n",
    "            node.val = value\n",
    "            self.ll.delete(node)\n",
    "            self.ll.insert(node)\n",
    "        else:\n",
    "            node = Node(key, value)\n",
    "            if self.capacity > 0:\n",
    "                self.capacity -= 1\n",
    "                self.ll.insert(node)\n",
    "                self.dict[key] = node\n",
    "            else:\n",
    "                delnode = self.ll.deleteHead()\n",
    "                del self.dict[delnode.key]\n",
    "                self.ll.insert(node)\n",
    "                self.dict[key] = node\n",
    "\n",
    "\n",
    "\n",
    "# Your LRUCache object will be instantiated and called as such:\n",
    "# obj = LRUCache(capacity)\n",
    "# param_1 = obj.get(key)\n",
    "# obj.put(key,value)"
   ]
  },
  {
   "cell_type": "code",
   "execution_count": 19,
   "id": "83c7e059",
   "metadata": {},
   "outputs": [],
   "source": [
    "lru = LRUCache(2)"
   ]
  },
  {
   "cell_type": "code",
   "execution_count": 20,
   "id": "d678d1b0",
   "metadata": {},
   "outputs": [],
   "source": [
    "lru.put(1,1)"
   ]
  },
  {
   "cell_type": "code",
   "execution_count": 21,
   "id": "30f7515a",
   "metadata": {},
   "outputs": [],
   "source": [
    "lru.put(2,2)"
   ]
  },
  {
   "cell_type": "code",
   "execution_count": 22,
   "id": "1141b4cb",
   "metadata": {},
   "outputs": [],
   "source": [
    "lru.put(3,3)"
   ]
  },
  {
   "cell_type": "code",
   "execution_count": 23,
   "id": "de79752e",
   "metadata": {},
   "outputs": [
    {
     "data": {
      "text/plain": [
       "-1"
      ]
     },
     "execution_count": 23,
     "metadata": {},
     "output_type": "execute_result"
    }
   ],
   "source": [
    "lru.get(1)"
   ]
  },
  {
   "cell_type": "code",
   "execution_count": 24,
   "id": "b6949e96",
   "metadata": {},
   "outputs": [
    {
     "data": {
      "text/plain": [
       "2"
      ]
     },
     "execution_count": 24,
     "metadata": {},
     "output_type": "execute_result"
    }
   ],
   "source": [
    "lru.get(2)"
   ]
  },
  {
   "cell_type": "code",
   "execution_count": 25,
   "id": "8edff061",
   "metadata": {},
   "outputs": [
    {
     "data": {
      "text/plain": [
       "3"
      ]
     },
     "execution_count": 25,
     "metadata": {},
     "output_type": "execute_result"
    }
   ],
   "source": [
    "lru.get(3)"
   ]
  },
  {
   "cell_type": "code",
   "execution_count": 26,
   "id": "e480898d",
   "metadata": {},
   "outputs": [],
   "source": [
    "lru.put(1,1)"
   ]
  },
  {
   "cell_type": "code",
   "execution_count": 27,
   "id": "cd5d9753",
   "metadata": {},
   "outputs": [
    {
     "data": {
      "text/plain": [
       "-1"
      ]
     },
     "execution_count": 27,
     "metadata": {},
     "output_type": "execute_result"
    }
   ],
   "source": [
    "lru.get(2)"
   ]
  },
  {
   "cell_type": "code",
   "execution_count": 28,
   "id": "e660ce89",
   "metadata": {},
   "outputs": [
    {
     "data": {
      "text/plain": [
       "3"
      ]
     },
     "execution_count": 28,
     "metadata": {},
     "output_type": "execute_result"
    }
   ],
   "source": [
    "lru.get(3)"
   ]
  },
  {
   "cell_type": "code",
   "execution_count": 30,
   "id": "02ed618c",
   "metadata": {},
   "outputs": [
    {
     "data": {
      "text/plain": [
       "1"
      ]
     },
     "execution_count": 30,
     "metadata": {},
     "output_type": "execute_result"
    }
   ],
   "source": [
    "lru.get(1)"
   ]
  },
  {
   "cell_type": "code",
   "execution_count": null,
   "id": "a92ac5ed",
   "metadata": {},
   "outputs": [],
   "source": []
  },
  {
   "cell_type": "code",
   "execution_count": null,
   "id": "3949ef7d",
   "metadata": {},
   "outputs": [],
   "source": []
  },
  {
   "cell_type": "code",
   "execution_count": null,
   "id": "e0c7a7e5",
   "metadata": {},
   "outputs": [],
   "source": []
  },
  {
   "cell_type": "code",
   "execution_count": null,
   "id": "969e6dd0",
   "metadata": {},
   "outputs": [],
   "source": []
  },
  {
   "cell_type": "code",
   "execution_count": null,
   "id": "3415e443",
   "metadata": {},
   "outputs": [],
   "source": []
  },
  {
   "cell_type": "code",
   "execution_count": null,
   "id": "fdb8712f",
   "metadata": {},
   "outputs": [],
   "source": []
  },
  {
   "cell_type": "code",
   "execution_count": null,
   "id": "85957b3d",
   "metadata": {},
   "outputs": [],
   "source": []
  },
  {
   "cell_type": "code",
   "execution_count": null,
   "id": "76c57dfe",
   "metadata": {},
   "outputs": [],
   "source": []
  }
 ],
 "metadata": {
  "kernelspec": {
   "display_name": "Python 3 (ipykernel)",
   "language": "python",
   "name": "python3"
  },
  "language_info": {
   "codemirror_mode": {
    "name": "ipython",
    "version": 3
   },
   "file_extension": ".py",
   "mimetype": "text/x-python",
   "name": "python",
   "nbconvert_exporter": "python",
   "pygments_lexer": "ipython3",
   "version": "3.11.5"
  }
 },
 "nbformat": 4,
 "nbformat_minor": 5
}
