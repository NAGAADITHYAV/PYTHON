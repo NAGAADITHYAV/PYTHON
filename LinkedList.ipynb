{
 "cells": [
  {
   "cell_type": "code",
   "execution_count": 5,
   "id": "14d43efa",
   "metadata": {},
   "outputs": [],
   "source": [
    "class Node:\n",
    "    def __init__(self, data):\n",
    "        self.val = data\n",
    "        self.next = None"
   ]
  },
  {
   "cell_type": "code",
   "execution_count": 6,
   "id": "61e204d5",
   "metadata": {},
   "outputs": [],
   "source": [
    "head = Node(5)"
   ]
  },
  {
   "cell_type": "code",
   "execution_count": 7,
   "id": "6939e9f0",
   "metadata": {},
   "outputs": [
    {
     "data": {
      "text/plain": [
       "5"
      ]
     },
     "execution_count": 7,
     "metadata": {},
     "output_type": "execute_result"
    }
   ],
   "source": [
    "head.val"
   ]
  },
  {
   "cell_type": "code",
   "execution_count": 8,
   "id": "85d1c2dc",
   "metadata": {},
   "outputs": [],
   "source": [
    "class LinkedList:\n",
    "    def __init__(self):\n",
    "        self.head = None\n",
    "        self.tail = None\n",
    "        self.length = 0\n",
    "        \n",
    "    def length(self):\n",
    "        return self.length\n",
    "    \n",
    "    def append(self, val):\n",
    "        if not self.head:\n",
    "            self.head = self.tail = Node(val)\n",
    "        else:\n",
    "            self.tail.next = Node(val)\n",
    "            self.tail = self.tail.next\n",
    "        self.length += 1\n",
    "        \n",
    "    def insert_at_index(self,val, index):\n",
    "        \"\"\"if index is more than length of the list will be added at the end of list\"\"\"\n",
    "        node = Node(val)\n",
    "        if index< 1:\n",
    "            node.next = self.head\n",
    "            self.head = node\n",
    "        elif index >= self.length:\n",
    "            self.tail.next = node\n",
    "            self.tail = self.tail.next\n",
    "        else:\n",
    "            parser = self.head\n",
    "            while index>0:\n",
    "                old_parser = parser\n",
    "                parser = parser.next\n",
    "                index -= 1\n",
    "            old_parser.next = node\n",
    "            node.next = parser\n",
    "        self.length += 1\n",
    "        \n",
    "    def print_list(self):\n",
    "        parser = self.head\n",
    "        while parser:\n",
    "            print(parser.val, end = \" \")\n",
    "            parser = parser.next\n",
    "    \n",
    "    def remove(self, val):\n",
    "        if not self.head:\n",
    "            return self.head\n",
    "        if self.head.val == val:\n",
    "            self.head = self.head.next\n",
    "            self.length -= 1\n",
    "            return self.head\n",
    "        parser = self.head\n",
    "        while parser and parser.next:\n",
    "            if parser.next.val == val:\n",
    "                parser.next = parser.next.next\n",
    "                self.length -= 1\n",
    "                return self.head\n",
    "            parser = parser.next\n",
    "        return self.head"
   ]
  },
  {
   "cell_type": "code",
   "execution_count": 23,
   "id": "4a344e47",
   "metadata": {},
   "outputs": [
    {
     "name": "stdout",
     "output_type": "stream",
     "text": [
      "5 3 5 6 5 "
     ]
    }
   ],
   "source": [
    "l = LinkedList()\n",
    "l.length\n",
    "l.append(5)\n",
    "l.append(6)\n",
    "l.append(5)\n",
    "l.append(6)\n",
    "l.append(5)\n",
    "l.insert_at_index(3,2)\n",
    "l.remove(6)\n",
    "l.print_list()"
   ]
  },
  {
   "cell_type": "code",
   "execution_count": 22,
   "id": "ed3a44d7",
   "metadata": {},
   "outputs": [
    {
     "name": "stdout",
     "output_type": "stream",
     "text": [
      "5 3 3 5 6 5 "
     ]
    }
   ],
   "source": []
  },
  {
   "cell_type": "code",
   "execution_count": null,
   "id": "0470cd09",
   "metadata": {},
   "outputs": [],
   "source": []
  }
 ],
 "metadata": {
  "kernelspec": {
   "display_name": "Python 3 (ipykernel)",
   "language": "python",
   "name": "python3"
  },
  "language_info": {
   "codemirror_mode": {
    "name": "ipython",
    "version": 3
   },
   "file_extension": ".py",
   "mimetype": "text/x-python",
   "name": "python",
   "nbconvert_exporter": "python",
   "pygments_lexer": "ipython3",
   "version": "3.11.3"
  }
 },
 "nbformat": 4,
 "nbformat_minor": 5
}
